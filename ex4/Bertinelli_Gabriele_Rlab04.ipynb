{
 "cells": [
  {
   "cell_type": "markdown",
   "metadata": {},
   "source": [
    "# RLab03 - Gabriele Bertinelli (2103359)"
   ]
  },
  {
   "cell_type": "code",
   "execution_count": 1,
   "metadata": {
    "vscode": {
     "languageId": "r"
    }
   },
   "outputs": [
    {
     "name": "stderr",
     "output_type": "stream",
     "text": [
      "── \u001b[1mAttaching core tidyverse packages\u001b[22m ──────────────────────── tidyverse 2.0.0 ──\n",
      "\u001b[32m✔\u001b[39m \u001b[34mdplyr    \u001b[39m 1.1.4     \u001b[32m✔\u001b[39m \u001b[34mreadr    \u001b[39m 2.1.5\n",
      "\u001b[32m✔\u001b[39m \u001b[34mforcats  \u001b[39m 1.0.0     \u001b[32m✔\u001b[39m \u001b[34mstringr  \u001b[39m 1.5.1\n",
      "\u001b[32m✔\u001b[39m \u001b[34mggplot2  \u001b[39m 3.5.0     \u001b[32m✔\u001b[39m \u001b[34mtibble   \u001b[39m 3.2.1\n",
      "\u001b[32m✔\u001b[39m \u001b[34mlubridate\u001b[39m 1.9.3     \u001b[32m✔\u001b[39m \u001b[34mtidyr    \u001b[39m 1.3.1\n",
      "\u001b[32m✔\u001b[39m \u001b[34mpurrr    \u001b[39m 1.0.2     \n",
      "── \u001b[1mConflicts\u001b[22m ────────────────────────────────────────── tidyverse_conflicts() ──\n",
      "\u001b[31m✖\u001b[39m \u001b[34mdplyr\u001b[39m::\u001b[32mfilter()\u001b[39m masks \u001b[34mstats\u001b[39m::filter()\n",
      "\u001b[31m✖\u001b[39m \u001b[34mdplyr\u001b[39m::\u001b[32mlag()\u001b[39m    masks \u001b[34mstats\u001b[39m::lag()\n",
      "\u001b[36mℹ\u001b[39m Use the conflicted package (\u001b[3m\u001b[34m<http://conflicted.r-lib.org/>\u001b[39m\u001b[23m) to force all conflicts to become errors\n",
      "\n",
      "Caricamento pacchetto: 'gridExtra'\n",
      "\n",
      "\n",
      "Il seguente oggetto è mascherato da 'package:dplyr':\n",
      "\n",
      "    combine\n",
      "\n",
      "\n",
      "Caricamento del pacchetto richiesto: Formula\n",
      "\n"
     ]
    }
   ],
   "source": [
    "library(tidyverse)\n",
    "library(gridExtra)\n",
    "library(latex2exp)\n",
    "library(emdbook)\n",
    "library(DirichletReg)\n",
    "library(bayestestR)\n",
    "\n",
    "set.seed(2103359)"
   ]
  },
  {
   "cell_type": "markdown",
   "metadata": {},
   "source": [
    "#### 1)  \n",
    "**1.1)** The probability distribution (in our case the likelihood) of *y*, the number of times the new method fails to detect the disease (i.e. false negatives), follows a Binomial distribution $P(y|\\pi) = \\binom{n}{y} \\pi^y (1-\\pi)^{(n-y)}$, where\n",
    "- n: number of trials\n",
    "- y: number of missed detections (FN)\n",
    "- $\\pi$: probability of a single missed detection (unknown)  \n",
    "\n",
    "**1.2)** Frequentist estimator of failure probability: $\\hat{p}_{new} = y/n = 6/75 = 0.08$. The new method fails to detect the disease in approximately 8% of the cases according to the frequentist approach. This is an estimate based on a specific sample. The true failure probability might be slightly higher or lower than 0.08."
   ]
  },
  {
   "cell_type": "markdown",
   "metadata": {},
   "source": [
    "**1.3)** Bayesian approach using a Beta prior with $\\mu=p=0.15$ and $\\sigma = 0.14$. We found $\\alpha$ and $\\beta$ solving the system:\n",
    "$$\\begin{array}{lcl}\\alpha + \\beta + 1 &=& \\frac{p(1-p)}{\\sigma^2} \\\\\\\\ \\alpha + \\beta &=& \\frac{\\alpha}{p} \\end{array}$$"
   ]
  },
  {
   "cell_type": "code",
   "execution_count": 2,
   "metadata": {
    "vscode": {
     "languageId": "r"
    }
   },
   "outputs": [
    {
     "name": "stderr",
     "output_type": "stream",
     "text": [
      "Warning message:\n",
      "\"\u001b[1m\u001b[22mRemoved 45 rows containing missing values or values outside the scale range\n",
      "(`geom_line()`).\"\n"
     ]
    },
    {
     "name": "stdout",
     "output_type": "stream",
     "text": [
      "[1] \"The posterior mean is 0.08\"\n",
      "[1] \"The posterior variance is 0.00095\"\n"
     ]
    },
    {
     "data": {
      "image/png": "[encoded data removed]",
      "text/plain": [
       "plot without title"
      ]
     },
     "metadata": {
      "image/png": {
       "height": 420,
       "width": 540
      }
     },
     "output_type": "display_data"
    }
   ],
   "source": [
    "n <- 75\n",
    "y <- 6\n",
    "mu <- 0.15\n",
    "sigma <- 0.14\n",
    "\n",
    "prior.alpha <- ((mu*(1-mu))/sigma^2 - 1)*mu\n",
    "prior.beta <- prior.alpha * (1/mu - 1)\n",
    "\n",
    "post.alpha <- prior.alpha + y\n",
    "post.beta <- prior.beta + n - y\n",
    "\n",
    "post.mean <- post.alpha / (post.alpha + post.beta)\n",
    "post.variance <- post.alpha * post.beta / ((post.alpha + post.beta)^2 * (post.alpha + post.beta + 1))\n",
    "\n",
    "x <- seq(0, 1, length.out = 100)\n",
    "fn.pdf <- dbeta(x, post.alpha, post.beta)\n",
    "\n",
    "options(repr.plot.width = 9, repr.plot.height = 7)\n",
    "fn.plot <- ggplot() + \n",
    "\t\t\tgeom_line(aes(x = x, y = fn.pdf), color='firebrick3', lwd=1.5) +\n",
    "\t\t\tgeom_vline(aes(xintercept = post.mean, color='Mean'), lwd=1, linetype='dashed') +\n",
    "\t\t\tgeom_vline(aes(xintercept = post.mean-sqrt(post.variance), color='1 sd'), lwd=1, linetype='dashed') + \n",
    "\t\t\tgeom_vline(aes(xintercept = post.mean+sqrt(post.variance), color='1 sd'), lwd=1, linetype='dashed') +\n",
    "\t\t\tlabs(title = 'Posterior distribution of y', x = 'y', y = TeX(r'(P(y|\\pi))'), color='') +\n",
    "\t\t\txlim(c(0, 0.55)) +\n",
    "\t\t\ttheme_minimal(base_size = 18) +\n",
    "\t\t\tscale_color_manual(values=c('Mean'= 'mediumseagreen', '1 sd'= 'dodgerblue4' ))\n",
    "\n",
    "fn.plot\n",
    "\n",
    "print(sprintf('The posterior mean is %.2f', post.mean))\n",
    "print(sprintf('The posterior variance is %.5f', post.variance))"
   ]
  },
  {
   "cell_type": "markdown",
   "metadata": {},
   "source": [
    "**1.4.1)** Bayes Factor"
   ]
  },
  {
   "cell_type": "code",
   "execution_count": 5,
   "metadata": {
    "vscode": {
     "languageId": "r"
    }
   },
   "outputs": [
    {
     "name": "stdout",
     "output_type": "stream",
     "text": [
      "Bayes Factor: 30.96999 \n",
      "New test might be better than the old method (H1 favored - P(y)<0.15) -> reject null hypothesis."
     ]
    }
   ],
   "source": [
    "null.model <- 0.15\n",
    "\n",
    "fn.pdf <- function(x) dbeta(x, post.alpha, post.beta)\n",
    "\n",
    "# Calculate Bayes Factor using numerical integration\n",
    "#integrate the posterior over H0 (p >= 0.15) and H1 (p < 0.15) regions\n",
    "h0.integral <- integrate(fn.pdf, lower = null.model, upper = 1)$value\n",
    "h1.integral <- integrate(fn.pdf, lower = 0, upper = null.model)$value\n",
    "\n",
    "bayes.factor <- h1.integral / h0.integral\n",
    "\n",
    "cat(\"Bayes Factor:\", bayes.factor, \"\\n\")\n",
    "\n",
    "# Interpret Bayes Factor (example thresholds)\n",
    "if (bayes.factor > 3) {\n",
    "  cat(\"New test might be better than the old method (H1 favored - P(y)<0.15) -> reject null hypothesis.\")\n",
    "} else if (bayes.factor < 1/3) {\n",
    "  cat(\"New test is not necessarily better than the old method (H0 favored - P(y)>=0.15) -> accept null hypotesis.\")\n",
    "} else {\n",
    "  cat(\"The data is inconclusive. More data or a different prior might be needed.\")\n",
    "}\n"
   ]
  },
  {
   "cell_type": "markdown",
   "metadata": {},
   "source": [
    "Using as reference Table 16.1 of https://mspeekenbrink.github.io/sdam-book/ch-Bayes-factors.html, a Bayes Factor of 30.96 suggests very strong evidence for MODEL 1, which is the alternative hypothesis H1."
   ]
  },
  {
   "cell_type": "markdown",
   "metadata": {},
   "source": [
    "**1.4.2)**  Credible Interval - We used a one-side credible interval test: if the bound of the credible interval is less than 0.15, it suggests that the new method is significantly better than the traditional method at detecting the disease in patients."
   ]
  },
  {
   "cell_type": "code",
   "execution_count": 17,
   "metadata": {
    "vscode": {
     "languageId": "r"
    }
   },
   "outputs": [
    {
     "name": "stdout",
     "output_type": "stream",
     "text": [
      "Null hypothesis is rejected. The new method is significantly better than the old method."
     ]
    },
    {
     "data": {
      "image/png": "[encoded data removed]",
      "text/plain": [
       "plot without title"
      ]
     },
     "metadata": {
      "image/png": {
       "height": 420,
       "width": 540
      }
     },
     "output_type": "display_data"
    }
   ],
   "source": [
    "# Left-tailed Credible Interval Calculation\n",
    "left_credible <- qbeta(0.05, post.alpha, post.beta)\n",
    "\n",
    "# Hypothesis Testing\n",
    "if (left_credible > null.model) {\n",
    "  cat(\"Null hypothesis cannot be rejected. The new method is not significantly better than the old method.\")\n",
    "} else {\n",
    "  cat(\"Null hypothesis is rejected. The new method is significantly better than the old method.\")\n",
    "}\n",
    "\n",
    "# Plotting Posterior Distribution\n",
    "ci.plot <- ggplot() + \n",
    "\tgeom_line(aes(x=x, y=fn.pdf), color='firebrick3', lwd=1.5) +\n",
    "\tgeom_vline(aes(xintercept= left_credible, col = \"Left CI\"), linetype = \"dashed\", lwd=1) +\n",
    "\tgeom_vline(aes(xintercept = null.model, col = \"Null P\"), linetype = \"dashed\", lwd=1) +\n",
    "\tlabs(title = 'Posterior distribution of y', x = 'y', y = TeX(r'(P(y|\\pi))'), color='') +\n",
    "\ttheme_minimal(base_size = 18) +\n",
    "\tscale_color_manual(values=c('Left CI'= 'dodgerblue4', 'Null P'= 'mediumseagreen' ))\n",
    "\n",
    "ci.plot"
   ]
  },
  {
   "cell_type": "markdown",
   "metadata": {},
   "source": [
    "**1.5)**"
   ]
  },
  {
   "cell_type": "code",
   "execution_count": 42,
   "metadata": {
    "vscode": {
     "languageId": "r"
    }
   },
   "outputs": [
    {
     "name": "stdout",
     "output_type": "stream",
     "text": [
      "p-value: 0.0543533 \n",
      "Fail to reject H0. The data is inconclusive about the new test's performance at the 5% significance level."
     ]
    }
   ],
   "source": [
    "# Perform one-tailed Binomial test\n",
    "p_value <- pbinom(y, n, 0.15) # P(y <= 6 | p = 0.15)\n",
    "cat(\"p-value:\", p_value, \"\\n\")\n",
    "\n",
    "alpha <- 0.05\n",
    "if (p_value < alpha) {\n",
    "  cat(\"New test might be better than the old method (H1 favored - P(y)<0.15) -> reject null hypothesis.\")\n",
    "} else {\n",
    "  cat(\"Fail to reject H0. The data is inconclusive about the new test's performance at the 5% significance level.\")\n",
    "}"
   ]
  },
  {
   "cell_type": "code",
   "execution_count": 45,
   "metadata": {
    "vscode": {
     "languageId": "r"
    }
   },
   "outputs": [
    {
     "name": "stdout",
     "output_type": "stream",
     "text": [
      "p-value: 0.0543533 \n",
      "Confidence Interval: 0 0.1517971 \n",
      "Fail to reject H0. The data is inconclusive about the new test's performance at the 5% significance level."
     ]
    }
   ],
   "source": [
    "# Perform one-tailed Binomial test using binom.test\n",
    "bin.test <- binom.test(x = y, n = n, p = 0.15, conf.level=0.95, alternative = \"less\")\n",
    "\n",
    "cat(\"p-value:\", bin.test$p.value, \"\\n\")\n",
    "cat(\"Confidence Interval:\", bin.test$conf.int, \"\\n\")\n",
    "\n",
    "if (bin.test$p.value < alpha) {\n",
    "  cat(\"New test might be better than the old method (H1 favored - P(y)<0.15) -> reject null hypothesis.\")\n",
    "} else {\n",
    "  cat(\"Fail to reject H0. The data is inconclusive about the new test's performance at the 5% significance level.\")\n",
    "}\n"
   ]
  },
  {
   "cell_type": "code",
   "execution_count": null,
   "metadata": {
    "vscode": {
     "languageId": "r"
    }
   },
   "outputs": [],
   "source": []
  }
 ],
 "metadata": {
  "kernelspec": {
   "display_name": "R",
   "language": "R",
   "name": "ir"
  },
  "language_info": {
   "codemirror_mode": "r",
   "file_extension": ".r",
   "mimetype": "text/x-r-source",
   "name": "R",
   "pygments_lexer": "r",
   "version": "4.3.3"
  }
 },
 "nbformat": 4,
 "nbformat_minor": 2
}
