{
 "cells": [
  {
   "cell_type": "markdown",
   "metadata": {},
   "source": [
    "# RLab03 - Gabriele Bertinelli (2103359)"
   ]
  },
  {
   "cell_type": "code",
   "execution_count": 3,
   "metadata": {
    "vscode": {
     "languageId": "r"
    }
   },
   "outputs": [
    {
     "name": "stderr",
     "output_type": "stream",
     "text": [
      "── \u001b[1mAttaching core tidyverse packages\u001b[22m ──────────────────────── tidyverse 2.0.0 ──\n",
      "\u001b[32m✔\u001b[39m \u001b[34mdplyr    \u001b[39m 1.1.4     \u001b[32m✔\u001b[39m \u001b[34mreadr    \u001b[39m 2.1.5\n",
      "\u001b[32m✔\u001b[39m \u001b[34mforcats  \u001b[39m 1.0.0     \u001b[32m✔\u001b[39m \u001b[34mstringr  \u001b[39m 1.5.1\n",
      "\u001b[32m✔\u001b[39m \u001b[34mggplot2  \u001b[39m 3.5.0     \u001b[32m✔\u001b[39m \u001b[34mtibble   \u001b[39m 3.2.1\n",
      "\u001b[32m✔\u001b[39m \u001b[34mlubridate\u001b[39m 1.9.3     \u001b[32m✔\u001b[39m \u001b[34mtidyr    \u001b[39m 1.3.1\n",
      "\u001b[32m✔\u001b[39m \u001b[34mpurrr    \u001b[39m 1.0.2     \n",
      "── \u001b[1mConflicts\u001b[22m ────────────────────────────────────────── tidyverse_conflicts() ──\n",
      "\u001b[31m✖\u001b[39m \u001b[34mdplyr\u001b[39m::\u001b[32mfilter()\u001b[39m masks \u001b[34mstats\u001b[39m::filter()\n",
      "\u001b[31m✖\u001b[39m \u001b[34mdplyr\u001b[39m::\u001b[32mlag()\u001b[39m    masks \u001b[34mstats\u001b[39m::lag()\n",
      "\u001b[36mℹ\u001b[39m Use the conflicted package (\u001b[3m\u001b[34m<http://conflicted.r-lib.org/>\u001b[39m\u001b[23m) to force all conflicts to become errors\n",
      "\n",
      "Caricamento pacchetto: 'gridExtra'\n",
      "\n",
      "\n",
      "Il seguente oggetto è mascherato da 'package:dplyr':\n",
      "\n",
      "    combine\n",
      "\n",
      "\n",
      "Caricamento del pacchetto richiesto: Formula\n",
      "\n",
      "\n",
      "Caricamento pacchetto: 'magrittr'\n",
      "\n",
      "\n",
      "Il seguente oggetto è mascherato da 'package:purrr':\n",
      "\n",
      "    set_names\n",
      "\n",
      "\n",
      "Il seguente oggetto è mascherato da 'package:tidyr':\n",
      "\n",
      "    extract\n",
      "\n",
      "\n"
     ]
    }
   ],
   "source": [
    "library(tidyverse)\n",
    "library(gridExtra)\n",
    "library(latex2exp)\n",
    "library(emdbook)\n",
    "library(DirichletReg)\n",
    "library(bayestestR)\n",
    "library(coda)\n",
    "library(magrittr)\n",
    "\n",
    "set.seed(2103359)"
   ]
  },
  {
   "cell_type": "markdown",
   "metadata": {},
   "source": [
    "#### 1)  \n",
    "**1.1)** The probability distribution (in our case the likelihood) of *y*, the number of times the new method fails to detect the disease (i.e. false negatives), follows a Binomial distribution $P(y|\\pi) = \\binom{n}{y} \\pi^y (1-\\pi)^{(n-y)}$, where\n",
    "- n: number of trials\n",
    "- y: number of missed detections (FN)\n",
    "- $\\pi$: probability of a single missed detection (unknown)  \n",
    "\n",
    "**1.2)** Frequentist estimator of failure probability: $\\hat{p}_{new} = y/n = 6/75 = 0.08$. The new method fails to detect the disease in approximately 8% of the cases according to the frequentist approach. This is an estimate based on a specific sample. The true failure probability might be slightly higher or lower than 0.08."
   ]
  },
  {
   "cell_type": "markdown",
   "metadata": {},
   "source": [
    "**1.3)** Bayesian approach using a Beta prior with $\\mu=p=0.15$ and $\\sigma = 0.14$. We found $\\alpha$ and $\\beta$ solving the system:\n",
    "$$\\begin{array}{lcl}\\alpha + \\beta + 1 &=& \\frac{p(1-p)}{\\sigma^2} \\\\\\\\ \\alpha + \\beta &=& \\frac{\\alpha}{p} \\end{array}$$"
   ]
  },
  {
   "cell_type": "code",
   "execution_count": 2,
   "metadata": {
    "vscode": {
     "languageId": "r"
    }
   },
   "outputs": [
    {
     "name": "stderr",
     "output_type": "stream",
     "text": [
      "Warning message:\n",
      "\"\u001b[1m\u001b[22mRemoved 45 rows containing missing values or values outside the scale range\n",
      "(`geom_line()`).\"\n"
     ]
    },
    {
     "name": "stdout",
     "output_type": "stream",
     "text": [
      "[1] \"The posterior mean is 0.08\"\n",
      "[1] \"The posterior variance is 0.00095\"\n"
     ]
    },
    {
     "data": {
      "image/png": "[encoded data removed]",
      "text/plain": [
       "plot without title"
      ]
     },
     "metadata": {
      "image/png": {
       "height": 420,
       "width": 540
      }
     },
     "output_type": "display_data"
    }
   ],
   "source": [
    "n <- 75\n",
    "y <- 6\n",
    "mu <- 0.15\n",
    "sigma <- 0.14\n",
    "\n",
    "prior.alpha <- ((mu*(1-mu))/sigma^2 - 1)*mu\n",
    "prior.beta <- prior.alpha * (1/mu - 1)\n",
    "\n",
    "post.alpha <- prior.alpha + y\n",
    "post.beta <- prior.beta + n - y\n",
    "\n",
    "post.mean <- post.alpha / (post.alpha + post.beta)\n",
    "post.variance <- post.alpha * post.beta / ((post.alpha + post.beta)^2 * (post.alpha + post.beta + 1))\n",
    "\n",
    "x <- seq(0, 1, length.out = 100)\n",
    "fn.pdf <- dbeta(x, post.alpha, post.beta)\n",
    "\n",
    "options(repr.plot.width = 9, repr.plot.height = 7)\n",
    "fn.plot <- ggplot() + \n",
    "\t\t\tgeom_line(aes(x = x, y = fn.pdf), color='firebrick3', lwd=1.5) +\n",
    "\t\t\tgeom_vline(aes(xintercept = post.mean, color='Mean'), lwd=1, linetype='dashed') +\n",
    "\t\t\tgeom_vline(aes(xintercept = post.mean-sqrt(post.variance), color='1 sd'), lwd=1, linetype='dashed') + \n",
    "\t\t\tgeom_vline(aes(xintercept = post.mean+sqrt(post.variance), color='1 sd'), lwd=1, linetype='dashed') +\n",
    "\t\t\tlabs(title = 'Posterior distribution of y', x = 'y', y = TeX(r'(P(y|\\pi))'), color='') +\n",
    "\t\t\txlim(c(0, 0.55)) +\n",
    "\t\t\ttheme_minimal(base_size = 18) +\n",
    "\t\t\tscale_color_manual(values=c('Mean'= 'mediumseagreen', '1 sd'= 'dodgerblue4' ))\n",
    "\n",
    "fn.plot\n",
    "\n",
    "print(sprintf('The posterior mean is %.2f', post.mean))\n",
    "print(sprintf('The posterior variance is %.5f', post.variance))"
   ]
  },
  {
   "cell_type": "markdown",
   "metadata": {},
   "source": [
    "**1.4.1)** <u>Bayes Factor</u>"
   ]
  },
  {
   "cell_type": "code",
   "execution_count": 3,
   "metadata": {
    "vscode": {
     "languageId": "r"
    }
   },
   "outputs": [
    {
     "name": "stdout",
     "output_type": "stream",
     "text": [
      "Bayes Factor: 30.96999 \n",
      "New test might be better than the old method (H1 favored - P(y)<0.15) -> reject null hypothesis."
     ]
    }
   ],
   "source": [
    "null.model <- 0.15\n",
    "\n",
    "fn.pdf <- function(x) dbeta(x, post.alpha, post.beta)\n",
    "\n",
    "# Calculate Bayes Factor using numerical integration\n",
    "#integrate the posterior over H0 (p >= 0.15) and H1 (p < 0.15) regions\n",
    "h0.integral <- integrate(fn.pdf, lower = null.model, upper = 1)$value\n",
    "h1.integral <- integrate(fn.pdf, lower = 0, upper = null.model)$value\n",
    "\n",
    "bayes.factor <- h1.integral / h0.integral\n",
    "\n",
    "cat(\"Bayes Factor:\", bayes.factor, \"\\n\")\n",
    "\n",
    "# Interpret Bayes Factor (example thresholds)\n",
    "if (bayes.factor > 3) {\n",
    "  cat(\"New test might be better than the old method (H1 favored - P(y)<0.15) -> reject null hypothesis.\")\n",
    "} else if (bayes.factor < 1/3) {\n",
    "  cat(\"New test is not necessarily better than the old method (H0 favored - P(y)>=0.15) -> accept null hypotesis.\")\n",
    "} else {\n",
    "  cat(\"The data is inconclusive. More data or a different prior might be needed.\")\n",
    "}\n"
   ]
  },
  {
   "cell_type": "markdown",
   "metadata": {},
   "source": [
    "Using as reference Table 16.1 of https://mspeekenbrink.github.io/sdam-book/ch-Bayes-factors.html, a Bayes Factor of 30.96 suggests very strong evidence for MODEL 1, which is the alternative hypothesis H1."
   ]
  },
  {
   "cell_type": "markdown",
   "metadata": {},
   "source": [
    "**1.4.2)** <u>Credible Interval</u> - We used a one-side credible interval test: if the bound of the credible interval is less than 0.15, it suggests that the new method is significantly better than the traditional method at detecting the disease in patients."
   ]
  },
  {
   "cell_type": "code",
   "execution_count": 4,
   "metadata": {
    "vscode": {
     "languageId": "r"
    }
   },
   "outputs": [
    {
     "name": "stdout",
     "output_type": "stream",
     "text": [
      "Null hypothesis is rejected. The new method is significantly better than the old method."
     ]
    },
    {
     "data": {
      "image/png": "[encoded data removed]",
      "text/plain": [
       "plot without title"
      ]
     },
     "metadata": {
      "image/png": {
       "height": 420,
       "width": 540
      }
     },
     "output_type": "display_data"
    }
   ],
   "source": [
    "# Left-tailed Credible Interval Calculation\n",
    "left_credible <- qbeta(0.05, post.alpha, post.beta)\n",
    "\n",
    "# Hypothesis Testing\n",
    "if (left_credible > null.model) {\n",
    "  cat(\"Null hypothesis cannot be rejected. The new method is not significantly better than the old method.\")\n",
    "} else {\n",
    "  cat(\"Null hypothesis is rejected. The new method is significantly better than the old method.\")\n",
    "}\n",
    "\n",
    "x <- seq(0, 1, length.out = 100)\n",
    "fn.pdf <- dbeta(x, post.alpha, post.beta)\n",
    "\n",
    "# Plotting Posterior Distribution\n",
    "ci.plot <- ggplot() + \n",
    "\tgeom_line(aes(x=x, y=fn.pdf), color='firebrick3', lwd=1.5) +\n",
    "\tgeom_vline(aes(xintercept= left_credible, col = \"Left CI\"), linetype = \"dashed\", lwd=1) +\n",
    "\tgeom_vline(aes(xintercept = null.model, col = \"Null P\"), linetype = \"dashed\", lwd=1) +\n",
    "\tlabs(title = 'Posterior distribution of y', x = 'y', y = TeX(r'(P(y|\\pi))'), color='') +\n",
    "\ttheme_minimal(base_size = 18) +\n",
    "\tscale_color_manual(values=c('Left CI'= 'dodgerblue4', 'Null P'= 'mediumseagreen' ))\n",
    "\n",
    "ci.plot"
   ]
  },
  {
   "cell_type": "markdown",
   "metadata": {},
   "source": [
    "**1.5)**"
   ]
  },
  {
   "cell_type": "code",
   "execution_count": 5,
   "metadata": {
    "vscode": {
     "languageId": "r"
    }
   },
   "outputs": [
    {
     "name": "stdout",
     "output_type": "stream",
     "text": [
      "p-value: 0.0543533 \n",
      "Fail to reject H0. The data is inconclusive about the new test's performance at the 5% significance level."
     ]
    }
   ],
   "source": [
    "# Perform one-tailed Binomial test\n",
    "p_value <- pbinom(y, n, 0.15) # P(y <= 6 | p = 0.15)\n",
    "cat(\"p-value:\", p_value, \"\\n\")\n",
    "\n",
    "alpha <- 0.05\n",
    "if (p_value < alpha) {\n",
    "  cat(\"New test might be better than the old method (H1 favored - P(y)<0.15) -> reject null hypothesis.\")\n",
    "} else {\n",
    "  cat(\"Fail to reject H0. The data is inconclusive about the new test's performance at the 5% significance level.\")\n",
    "}"
   ]
  },
  {
   "cell_type": "code",
   "execution_count": 6,
   "metadata": {
    "vscode": {
     "languageId": "r"
    }
   },
   "outputs": [
    {
     "name": "stdout",
     "output_type": "stream",
     "text": [
      "p-value: 0.0543533 \n",
      "Confidence Interval: 0 0.1517971 \n",
      "Fail to reject H0. The data is inconclusive about the new test's performance at the 5% significance level."
     ]
    }
   ],
   "source": [
    "# Perform one-tailed Binomial test using binom.test\n",
    "bin.test <- binom.test(x = y, n = n, p = 0.15, conf.level=0.95, alternative = \"less\")\n",
    "\n",
    "cat(\"p-value:\", bin.test$p.value, \"\\n\")\n",
    "cat(\"Confidence Interval:\", bin.test$conf.int, \"\\n\")\n",
    "\n",
    "if (bin.test$p.value < alpha) {\n",
    "  cat(\"New test might be better than the old method (H1 favored - P(y)<0.15) -> reject null hypothesis.\")\n",
    "} else {\n",
    "  cat(\"Fail to reject H0. The data is inconclusive about the new test's performance at the 5% significance level.\")\n",
    "}\n"
   ]
  },
  {
   "cell_type": "markdown",
   "metadata": {},
   "source": [
    "#### 2)"
   ]
  },
  {
   "cell_type": "code",
   "execution_count": 25,
   "metadata": {
    "vscode": {
     "languageId": "r"
    }
   },
   "outputs": [],
   "source": [
    "mcmc <- function(func = func, x = x, mu.init = mu.init, sigma = sigma2, n.iter = n.iter, burn.in = burn.in) {\n",
    "  # Initialize chain and acceptance counter\n",
    "  mu.cur <- mu.init\n",
    "  func.samp <- matrix(data=NA, nrow=n.iter, ncol=4)\n",
    "  func.samp[1:2, 2] <- c(mu.cur, mu.cur)\n",
    "  n.acc <- 0\n",
    "  acc.rate <- 0\n",
    "  \n",
    "  func.samp[1:2, 1] <- c(1, 2)\n",
    "  # Loop for MCMC iterations\n",
    "  for (i in 3:n.iter) {\n",
    "    # Propose new value for mu\n",
    "    mu.prop <- rnorm(1, func.samp[i-1, 2], sd = sigma2)  # Adjust proposal SD as needed\n",
    "    \n",
    "    # Calculate acceptance probability ratio\n",
    "    rho <- min(1, func(x, mu.prop, sigma2) / func(x, func.samp[i-1, 2], sigma2)) \n",
    "\n",
    "    # Accept or reject proposal based on uniform random draw\n",
    "    u <- runif(1)\n",
    "    if (u < rho) {\n",
    "      func.samp[i, 2] <- mu.prop\n",
    "      n.acc <- n.acc + 1\n",
    "    } else {\n",
    "      func.samp[i, 2] <- func.samp[i-1, 2]\n",
    "    }\n",
    "\tfunc.samp[i, 1]\t<- i\n",
    "\tfunc.samp[i, 3] <- n.acc\n",
    "\tfunc.samp[i, 4] <- n.acc / i\n",
    "  }\n",
    "  \n",
    "  # Remove burn-in (initial samples for convergence)\n",
    "  func.samp <- func.samp[round(n.iter * burn.in):n.iter, ]  # Adjust burn-in proportion\n",
    "  \n",
    "  # Return MCMC chain, acceptance rate, and ACF\n",
    "  return(func.samp)\n",
    "}"
   ]
  },
  {
   "cell_type": "code",
   "execution_count": 26,
   "metadata": {
    "vscode": {
     "languageId": "r"
    }
   },
   "outputs": [],
   "source": [
    "# Define the likelihood function (assuming unknown mean mu)\n",
    "likelihood <- function(x, mu, sigma2) {\n",
    "  return(dnorm(x, mean = mu, sd = sqrt(sigma2)))\n",
    "}\n",
    "\n",
    "# Define the prior function (piecewise)\n",
    "prior <- function(mu) {\n",
    "\tsapply(mu, function(mu) {\n",
    "\t\t\n",
    "\t\tif (mu > 0 & mu <= 3) {\n",
    "\t\t\tmu\n",
    "\t\t} else if (mu > 3 & mu <= 5) {\n",
    "\t\t\t3\n",
    "\t\t} else if (mu > 5 & mu <= 8) {\n",
    "\t\t\t8 - mu\n",
    "\t\t} else {\n",
    "\t\t\t0\n",
    "\t\t}\n",
    "\t} )\n",
    "}\n",
    "\n",
    "testfunc <- function(x, mu, sigma2) {\n",
    "\n",
    "\t# integral <- integrate(function(x) {\n",
    "\t# \tprior(mu) * likelihood(x, mu, sigma2)\n",
    "\t# }, lower = -Inf, upper = Inf)$value\n",
    "\t# mcmc doesn't like the normalization constant\n",
    "\n",
    "\treturn((prior(mu) * likelihood(x, mu, sigma2)))\n",
    "}\n",
    "\n",
    "testfunc.metr <- function(x, mu, sigma2) {\n",
    "\treturn(log10(testfunc(x, mu, sigma2)))\n",
    "}"
   ]
  },
  {
   "cell_type": "code",
   "execution_count": 50,
   "metadata": {
    "vscode": {
     "languageId": "r"
    }
   },
   "outputs": [],
   "source": [
    "sigma2 <- 2^2  # Known variance\n",
    "x <- c(4.09, 4.68, 1.87, 2.62, 5.58, 8.68, 4.07, 4.78,\n",
    "4.79, 4.49, 5.85, 5.09, 2.40, 6.27, 6.30, 4.47)\n",
    "mu.init <- 4  # Initial value for mu\n",
    "\n",
    "test.chain <- mcmc(func = testfunc, x = x, mu.init = mu.init, sigma = sigma2, n.iter = 100000, burn.in = 0.25) \n",
    "test.chain <- as.data.frame(test.chain)\n",
    "colnames(test.chain)<-c('it', 'mu', 'n.acc', 'acc.rate')"
   ]
  },
  {
   "cell_type": "code",
   "execution_count": 63,
   "metadata": {
    "vscode": {
     "languageId": "r"
    }
   },
   "outputs": [
    {
     "name": "stdout",
     "output_type": "stream",
     "text": [
      "Posterior Mean: 4.66 \n",
      "Posterior Median: 4.71 \n",
      "Posterior Standard Deviation: 1.01 \n"
     ]
    }
   ],
   "source": [
    "posterior.mean <- mean(test.chain$mu)\n",
    "\n",
    "posterior.median <- median(test.chain$mu)\n",
    "\n",
    "posterior.sd <- sd(test.chain$mu)\n",
    "\n",
    "cat(\"Posterior Mean:\", round(posterior.mean, 2), \"\\n\")\n",
    "cat(\"Posterior Median:\", round(posterior.median, 2), \"\\n\")\n",
    "cat(\"Posterior Standard Deviation:\", round(posterior.sd, 2), \"\\n\")"
   ]
  },
  {
   "cell_type": "code",
   "execution_count": 64,
   "metadata": {
    "vscode": {
     "languageId": "r"
    }
   },
   "outputs": [
    {
     "name": "stdout",
     "output_type": "stream",
     "text": [
      "95% Credible Interval: 2.64 - 6.59 \n"
     ]
    }
   ],
   "source": [
    "cred.int <- quantile(test.chain$mu, c(0.025, 0.975))\n",
    "\n",
    "cat(\"95% Credible Interval:\", round(cred.int[1], 2), '-', round(cred.int[2], 2), \"\\n\")"
   ]
  },
  {
   "cell_type": "code",
   "execution_count": 71,
   "metadata": {
    "vscode": {
     "languageId": "r"
    }
   },
   "outputs": [
    {
     "name": "stdout",
     "output_type": "stream",
     "text": [
      "Acceptance Rate: 0.18017 \n"
     ]
    },
    {
     "data": {
      "image/png": "[encoded data removed]",
      "text/plain": [
       "plot without title"
      ]
     },
     "metadata": {
      "image/png": {
       "height": 420,
       "width": 1050
      }
     },
     "output_type": "display_data"
    }
   ],
   "source": [
    "# Print acceptance rate\n",
    "cat(\"Acceptance Rate:\", tail(test.chain$acc.rate, 1), \"\\n\")\n",
    "\n",
    "options(repr.plot.width = 17.5, repr.plot.height = 7)\n",
    "\n",
    "# Custom layout\n",
    "layout <- matrix(c(1, 1, 2), ncol = 3, byrow = TRUE)\n",
    "\n",
    "# Visualize posterior distribution\n",
    "post.hist <- ggplot(data = test.chain) +\n",
    "\tgeom_histogram(aes(x = mu, after_stat(density)), bins = 30, color = \"ivory\", fill = \"dodgerblue4\") +\n",
    "\tgeom_density(aes(x = mu), color = \"firebrick3\", lwd = 1.5) +\n",
    "\tgeom_vline(aes(xintercept = posterior.mean, color='Mean'), lwd=1.5)+\n",
    "\tgeom_vline(aes(xintercept = posterior.mean - posterior.sd, color='1 sd'), lwd=1.5, linetype='dashed') +\n",
    "\tgeom_vline(aes(xintercept = posterior.mean + posterior.sd, color='1 sd'), lwd=1.5, linetype='dashed') +\n",
    "\t# geom_vline(aes(xintercept = posterior.median, color='Median'), lwd=1.5) +\n",
    "\tgeom_vline(aes(xintercept = cred.int[1], color='95% CI'), lwd=1.5, linetype='dotdash') +\n",
    "\tgeom_vline(aes(xintercept = cred.int[2], color='95% CI'), lwd=1.5, linetype='dotdash') +\n",
    "\tlabs(title = TeX(r\"(\\mu Posterior)\"), x = '', y = \"Density\") +\n",
    "\tscale_color_manual(values = c('Mean' = 'olivedrab2', '1 sd' = '#FF7F00', '95% CI' = 'violetred3')) +\n",
    "\ttheme_minimal(base_size = 18) + theme(axis.text.x=element_blank(), legend.position=\"none\") + coord_flip()\n",
    "\n",
    "trace.plot <- ggplot(data = test.chain) +\n",
    "\tgeom_line(aes(x = it, y = mu), color = \"dodgerblue4\", lwd=1) +\n",
    "\tgeom_hline(aes(yintercept = posterior.mean, color='Mean'), lwd=1.5)+\n",
    "\tgeom_hline(aes(yintercept = posterior.mean - posterior.sd, color='1 sd'), lwd=1.5, linetype='dashed') +\n",
    "\tgeom_hline(aes(yintercept = posterior.mean + posterior.sd, color='1 sd'), lwd=1.5, linetype='dashed') +\n",
    "\t# geom_hline(aes(yintercept = posterior.median, color='Median'), lwd=1.5) +\n",
    "\tgeom_hline(aes(yintercept = cred.int[1], color='95% CI'), lwd=1.5, linetype='dotdash') +\n",
    "\tgeom_hline(aes(yintercept = cred.int[2], color='95% CI'), lwd=1.5, linetype='dotdash') +\n",
    "\tlabs(title = TeX(r\"(\\mu trace plot)\"), x = \"Iteration\", y = TeX(r\"(\\mu)\"), color='', lwd=1.5) +\n",
    "\tscale_color_manual(values = c('Mean' = 'olivedrab2', '1 sd' = '#FF7F00', '95% CI' = 'violetred3')) +\n",
    "\ttheme_minimal(base_size = 18)\n",
    "\n",
    "grid.arrange(trace.plot, post.hist, layout_matrix = layout)"
   ]
  },
  {
   "cell_type": "code",
   "execution_count": 77,
   "metadata": {
    "vscode": {
     "languageId": "r"
    }
   },
   "outputs": [
    {
     "data": {
      "image/png": "[encoded data removed]",
      "text/plain": [
       "plot without title"
      ]
     },
     "metadata": {
      "image/png": {
       "height": 420,
       "width": 540
      }
     },
     "output_type": "display_data"
    }
   ],
   "source": [
    "mu.d <- seq(-5, 10, length.out = 1000)\n",
    "prior.d <- prior(mu.d)\n",
    "\n",
    "like.d <- likelihood(mu.d, mu.init, sigma2)\n",
    "\n",
    "post.d <- (prior.d*like.d)\n",
    "options(repr.plot.width = 9, repr.plot.height = 7)\n",
    "\n",
    "fin.plot <- ggplot() +\n",
    "\tgeom_line(aes(x = mu.d, y = prior.d, color = 'Prior'), lwd=1.5) +\n",
    "\tgeom_line(aes(x = mu.d, y = like.d, color = 'Likelihood'), lwd=1.5) +\n",
    "\tgeom_line(aes(x=mu.d, y=post.d, color='Posterior'), lwd=1.5) +\n",
    "\tgeom_density(aes(x = test.chain$mu, color= 'Chain Post'), lwd = 1.5) +\n",
    "\tlabs(title = TeX(r\"(Prior, Likelihood, Posterior)\"), x = TeX(r\"(\\mu)\"), y = \"Density\", color='') +\n",
    "\tscale_color_manual(values = c('Prior' = 'dodgerblue4', 'Likelihood' = 'mediumseagreen', 'Posterior' = 'firebrick3', 'Chain Post' = 'darkgrey')) +\n",
    "\ttheme_minimal(base_size = 18)\n",
    "\n",
    "fin.plot"
   ]
  },
  {
   "cell_type": "code",
   "execution_count": null,
   "metadata": {
    "vscode": {
     "languageId": "r"
    }
   },
   "outputs": [],
   "source": []
  }
 ],
 "metadata": {
  "kernelspec": {
   "display_name": "R",
   "language": "R",
   "name": "ir"
  },
  "language_info": {
   "codemirror_mode": "r",
   "file_extension": ".r",
   "mimetype": "text/x-r-source",
   "name": "R",
   "pygments_lexer": "r",
   "version": "4.3.3"
  }
 },
 "nbformat": 4,
 "nbformat_minor": 2
}
