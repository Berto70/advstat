{
 "cells": [
  {
   "cell_type": "code",
   "execution_count": 1,
   "metadata": {
    "jupyter": {
     "is_executing": true
    },
    "vscode": {
     "languageId": "r"
    }
   },
   "outputs": [
    {
     "name": "stderr",
     "output_type": "stream",
     "text": [
      "── \u001b[1mAttaching core tidyverse packages\u001b[22m ──────────────────────── tidyverse 2.0.0 ──\n",
      "\u001b[32m✔\u001b[39m \u001b[34mdplyr    \u001b[39m 1.1.4     \u001b[32m✔\u001b[39m \u001b[34mreadr    \u001b[39m 2.1.5\n",
      "\u001b[32m✔\u001b[39m \u001b[34mforcats  \u001b[39m 1.0.0     \u001b[32m✔\u001b[39m \u001b[34mstringr  \u001b[39m 1.5.1\n",
      "\u001b[32m✔\u001b[39m \u001b[34mggplot2  \u001b[39m 3.5.0     \u001b[32m✔\u001b[39m \u001b[34mtibble   \u001b[39m 3.2.1\n",
      "\u001b[32m✔\u001b[39m \u001b[34mlubridate\u001b[39m 1.9.3     \u001b[32m✔\u001b[39m \u001b[34mtidyr    \u001b[39m 1.3.1\n",
      "\u001b[32m✔\u001b[39m \u001b[34mpurrr    \u001b[39m 1.0.2     \n",
      "── \u001b[1mConflicts\u001b[22m ────────────────────────────────────────── tidyverse_conflicts() ──\n",
      "\u001b[31m✖\u001b[39m \u001b[34mdplyr\u001b[39m::\u001b[32mfilter()\u001b[39m masks \u001b[34mstats\u001b[39m::filter()\n",
      "\u001b[31m✖\u001b[39m \u001b[34mdplyr\u001b[39m::\u001b[32mlag()\u001b[39m    masks \u001b[34mstats\u001b[39m::lag()\n",
      "\u001b[36mℹ\u001b[39m Use the conflicted package (\u001b[3m\u001b[34m<http://conflicted.r-lib.org/>\u001b[39m\u001b[23m) to force all conflicts to become errors\n"
     ]
    }
   ],
   "source": [
    "library(tidyverse)\n",
    "library(ggplot2)\n",
    "library(tibble)\n",
    "library(dplyr)\n",
    "library(geosphere)"
   ]
  },
  {
   "cell_type": "markdown",
   "metadata": {},
   "source": [
    "#### 1)"
   ]
  },
  {
   "cell_type": "code",
   "execution_count": 2,
   "metadata": {
    "vscode": {
     "languageId": "r"
    }
   },
   "outputs": [
    {
     "name": "stderr",
     "output_type": "stream",
     "text": [
      "\u001b[1mRows: \u001b[22m\u001b[34m18565\u001b[39m \u001b[1mColumns: \u001b[22m\u001b[34m15\u001b[39m\n",
      "\u001b[36m──\u001b[39m \u001b[1mColumn specification\u001b[22m \u001b[36m────────────────────────────────────────────────────────\u001b[39m\n",
      "\u001b[1mDelimiter:\u001b[22m \",\"\n",
      "\u001b[31mchr\u001b[39m   (3): start station name, end station name, usertype\n",
      "\u001b[32mdbl\u001b[39m  (10): tripduration, start station id, start station latitude, start sta...\n",
      "\u001b[34mdttm\u001b[39m  (2): starttime, stoptime\n",
      "\n",
      "\u001b[36mℹ\u001b[39m Use `spec()` to retrieve the full column specification for this data.\n",
      "\u001b[36mℹ\u001b[39m Specify the column types or set `show_col_types = FALSE` to quiet this message.\n",
      "\u001b[1mRows: \u001b[22m\u001b[34m23606\u001b[39m \u001b[1mColumns: \u001b[22m\u001b[34m15\u001b[39m\n",
      "\u001b[36m──\u001b[39m \u001b[1mColumn specification\u001b[22m \u001b[36m────────────────────────────────────────────────────────\u001b[39m\n",
      "\u001b[1mDelimiter:\u001b[22m \",\"\n",
      "\u001b[31mchr\u001b[39m   (3): start station name, end station name, usertype\n",
      "\u001b[32mdbl\u001b[39m  (10): tripduration, start station id, start station latitude, start sta...\n",
      "\u001b[34mdttm\u001b[39m  (2): starttime, stoptime\n",
      "\n",
      "\u001b[36mℹ\u001b[39m Use `spec()` to retrieve the full column specification for this data.\n",
      "\u001b[36mℹ\u001b[39m Specify the column types or set `show_col_types = FALSE` to quiet this message.\n",
      "\u001b[1mRows: \u001b[22m\u001b[34m33056\u001b[39m \u001b[1mColumns: \u001b[22m\u001b[34m15\u001b[39m\n",
      "\u001b[36m──\u001b[39m \u001b[1mColumn specification\u001b[22m \u001b[36m────────────────────────────────────────────────────────\u001b[39m\n",
      "\u001b[1mDelimiter:\u001b[22m \",\"\n",
      "\u001b[31mchr\u001b[39m   (3): start station name, end station name, usertype\n",
      "\u001b[32mdbl\u001b[39m  (10): tripduration, start station id, start station latitude, start sta...\n",
      "\u001b[34mdttm\u001b[39m  (2): starttime, stoptime\n",
      "\n",
      "\u001b[36mℹ\u001b[39m Use `spec()` to retrieve the full column specification for this data.\n",
      "\u001b[36mℹ\u001b[39m Specify the column types or set `show_col_types = FALSE` to quiet this message.\n",
      "\u001b[1mRows: \u001b[22m\u001b[34m36135\u001b[39m \u001b[1mColumns: \u001b[22m\u001b[34m15\u001b[39m\n",
      "\u001b[36m──\u001b[39m \u001b[1mColumn specification\u001b[22m \u001b[36m────────────────────────────────────────────────────────\u001b[39m\n",
      "\u001b[1mDelimiter:\u001b[22m \",\"\n",
      "\u001b[31mchr\u001b[39m   (3): start station name, end station name, usertype\n",
      "\u001b[32mdbl\u001b[39m  (10): tripduration, start station id, start station latitude, start sta...\n",
      "\u001b[34mdttm\u001b[39m  (2): starttime, stoptime\n",
      "\n",
      "\u001b[36mℹ\u001b[39m Use `spec()` to retrieve the full column specification for this data.\n",
      "\u001b[36mℹ\u001b[39m Specify the column types or set `show_col_types = FALSE` to quiet this message.\n",
      "\u001b[1mRows: \u001b[22m\u001b[34m39430\u001b[39m \u001b[1mColumns: \u001b[22m\u001b[34m15\u001b[39m\n",
      "\u001b[36m──\u001b[39m \u001b[1mColumn specification\u001b[22m \u001b[36m────────────────────────────────────────────────────────\u001b[39m\n",
      "\u001b[1mDelimiter:\u001b[22m \",\"\n",
      "\u001b[31mchr\u001b[39m   (3): start station name, end station name, usertype\n",
      "\u001b[32mdbl\u001b[39m  (10): tripduration, start station id, start station latitude, start sta...\n",
      "\u001b[34mdttm\u001b[39m  (2): starttime, stoptime\n",
      "\n",
      "\u001b[36mℹ\u001b[39m Use `spec()` to retrieve the full column specification for this data.\n",
      "\u001b[36mℹ\u001b[39m Specify the column types or set `show_col_types = FALSE` to quiet this message.\n"
     ]
    }
   ],
   "source": [
    "# read_csv is from tidyverse, faster than read.csv\n",
    "\n",
    "d1 <- read_csv('./Data_CitiBike/JC-201902-citibike-tripdata.csv')\n",
    "d2 <- read_csv('./Data_CitiBike/JC-201903-citibike-tripdata.csv')\n",
    "d3 <- read_csv('./Data_CitiBike/JC-201904-citibike-tripdata.csv')\n",
    "d4 <- read_csv('./Data_CitiBike/JC-201905-citibike-tripdata.csv')\n",
    "d5 <- read_csv('./Data_CitiBike/JC-201906-citibike-tripdata.csv')"
   ]
  },
  {
   "cell_type": "markdown",
   "metadata": {},
   "source": [
    "#### 2)"
   ]
  },
  {
   "cell_type": "code",
   "execution_count": 3,
   "metadata": {
    "vscode": {
     "languageId": "r"
    }
   },
   "outputs": [],
   "source": [
    "# bind_rows() is useful for combining data frames wherein the columns are all identical\n",
    "df <- bind_rows(d1, d2, d3, d4, d5)"
   ]
  },
  {
   "cell_type": "code",
   "execution_count": 4,
   "metadata": {
    "vscode": {
     "languageId": "r"
    }
   },
   "outputs": [
    {
     "name": "stdout",
     "output_type": "stream",
     "text": [
      "spc_tbl_ [150,792 × 15] (S3: spec_tbl_df/tbl_df/tbl/data.frame)\n",
      " $ tripduration           : num [1:150792] 142 223 106 370 315 ...\n",
      " $ starttime              : POSIXct[1:150792], format: \"2019-02-01 15:35:02\" \"2019-02-01 17:00:46\" ...\n",
      " $ stoptime               : POSIXct[1:150792], format: \"2019-02-01 15:37:24\" \"2019-02-01 17:04:30\" ...\n",
      " $ start station id       : num [1:150792] 3183 3183 3183 3183 3183 ...\n",
      " $ start station name     : chr [1:150792] \"Exchange Place\" \"Exchange Place\" \"Exchange Place\" \"Exchange Place\" ...\n",
      " $ start station latitude : num [1:150792] 40.7 40.7 40.7 40.7 40.7 ...\n",
      " $ start station longitude: num [1:150792] -74 -74 -74 -74 -74 ...\n",
      " $ end station id         : num [1:150792] 3639 3681 3184 3211 3273 ...\n",
      " $ end station name       : chr [1:150792] \"Harborside\" \"Grand St\" \"Paulus Hook\" \"Newark Ave\" ...\n",
      " $ end station latitude   : num [1:150792] 40.7 40.7 40.7 40.7 40.7 ...\n",
      " $ end station longitude  : num [1:150792] -74 -74 -74 -74 -74 ...\n",
      " $ bikeid                 : num [1:150792] 29677 26234 29588 29250 29586 ...\n",
      " $ usertype               : chr [1:150792] \"Subscriber\" \"Subscriber\" \"Subscriber\" \"Subscriber\" ...\n",
      " $ birth year             : num [1:150792] 1963 1992 1960 1976 1980 ...\n",
      " $ gender                 : num [1:150792] 1 2 1 1 1 1 1 1 1 1 ...\n",
      " - attr(*, \"spec\")=\n",
      "  .. cols(\n",
      "  ..   tripduration = \u001b[32mcol_double()\u001b[39m,\n",
      "  ..   starttime = \u001b[34mcol_datetime(format = \"\")\u001b[39m,\n",
      "  ..   stoptime = \u001b[34mcol_datetime(format = \"\")\u001b[39m,\n",
      "  ..   `start station id` = \u001b[32mcol_double()\u001b[39m,\n",
      "  ..   `start station name` = \u001b[31mcol_character()\u001b[39m,\n",
      "  ..   `start station latitude` = \u001b[32mcol_double()\u001b[39m,\n",
      "  ..   `start station longitude` = \u001b[32mcol_double()\u001b[39m,\n",
      "  ..   `end station id` = \u001b[32mcol_double()\u001b[39m,\n",
      "  ..   `end station name` = \u001b[31mcol_character()\u001b[39m,\n",
      "  ..   `end station latitude` = \u001b[32mcol_double()\u001b[39m,\n",
      "  ..   `end station longitude` = \u001b[32mcol_double()\u001b[39m,\n",
      "  ..   bikeid = \u001b[32mcol_double()\u001b[39m,\n",
      "  ..   usertype = \u001b[31mcol_character()\u001b[39m,\n",
      "  ..   `birth year` = \u001b[32mcol_double()\u001b[39m,\n",
      "  ..   gender = \u001b[32mcol_double()\u001b[39m\n",
      "  .. )\n",
      " - attr(*, \"problems\")=<externalptr> \n"
     ]
    }
   ],
   "source": [
    "str(df)"
   ]
  },
  {
   "cell_type": "markdown",
   "metadata": {},
   "source": [
    "#### 3)"
   ]
  },
  {
   "cell_type": "code",
   "execution_count": 5,
   "metadata": {
    "vscode": {
     "languageId": "r"
    }
   },
   "outputs": [],
   "source": [
    "df <- drop_na(df) # drop rows with NA values"
   ]
  },
  {
   "cell_type": "code",
   "execution_count": 6,
   "metadata": {
    "vscode": {
     "languageId": "r"
    }
   },
   "outputs": [
    {
     "name": "stdout",
     "output_type": "stream",
     "text": [
      "tibble [150,792 × 15] (S3: tbl_df/tbl/data.frame)\n",
      " $ tripduration           : num [1:150792] 142 223 106 370 315 ...\n",
      " $ starttime              : POSIXct[1:150792], format: \"2019-02-01 15:35:02\" \"2019-02-01 17:00:46\" ...\n",
      " $ stoptime               : POSIXct[1:150792], format: \"2019-02-01 15:37:24\" \"2019-02-01 17:04:30\" ...\n",
      " $ start station id       : num [1:150792] 3183 3183 3183 3183 3183 ...\n",
      " $ start station name     : chr [1:150792] \"Exchange Place\" \"Exchange Place\" \"Exchange Place\" \"Exchange Place\" ...\n",
      " $ start station latitude : num [1:150792] 40.7 40.7 40.7 40.7 40.7 ...\n",
      " $ start station longitude: num [1:150792] -74 -74 -74 -74 -74 ...\n",
      " $ end station id         : num [1:150792] 3639 3681 3184 3211 3273 ...\n",
      " $ end station name       : chr [1:150792] \"Harborside\" \"Grand St\" \"Paulus Hook\" \"Newark Ave\" ...\n",
      " $ end station latitude   : num [1:150792] 40.7 40.7 40.7 40.7 40.7 ...\n",
      " $ end station longitude  : num [1:150792] -74 -74 -74 -74 -74 ...\n",
      " $ bikeid                 : num [1:150792] 29677 26234 29588 29250 29586 ...\n",
      " $ usertype               : chr [1:150792] \"Subscriber\" \"Subscriber\" \"Subscriber\" \"Subscriber\" ...\n",
      " $ birth year             : num [1:150792] 1963 1992 1960 1976 1980 ...\n",
      " $ gender                 : num [1:150792] 1 2 1 1 1 1 1 1 1 1 ...\n"
     ]
    }
   ],
   "source": [
    "str(df)\n",
    "\n",
    "# no rows removed due to NA values"
   ]
  },
  {
   "cell_type": "markdown",
   "metadata": {},
   "source": [
    "#### 4)\n",
    "**4.1)**"
   ]
  },
  {
   "cell_type": "code",
   "execution_count": 7,
   "metadata": {
    "vscode": {
     "languageId": "r"
    }
   },
   "outputs": [
    {
     "data": {
      "text/html": [
       "'Average trip duration: 768.64 sec'"
      ],
      "text/latex": [
       "'Average trip duration: 768.64 sec'"
      ],
      "text/markdown": [
       "'Average trip duration: 768.64 sec'"
      ],
      "text/plain": [
       "[1] \"Average trip duration: 768.64 sec\""
      ]
     },
     "metadata": {},
     "output_type": "display_data"
    },
    {
     "data": {
      "text/html": [
       "'Median trip duration: 341.00 sec'"
      ],
      "text/latex": [
       "'Median trip duration: 341.00 sec'"
      ],
      "text/markdown": [
       "'Median trip duration: 341.00 sec'"
      ],
      "text/plain": [
       "[1] \"Median trip duration: 341.00 sec\""
      ]
     },
     "metadata": {},
     "output_type": "display_data"
    }
   ],
   "source": [
    "avg_trip_duration <- mean(df$tripduration)\n",
    "\n",
    "median_trip_duration <- median(df$tripduration)\n",
    "\n",
    "sprintf(\"Average trip duration: %.2f sec\", avg_trip_duration)\n",
    "sprintf(\"Median trip duration: %.2f sec\", median_trip_duration)"
   ]
  },
  {
   "cell_type": "markdown",
   "metadata": {},
   "source": [
    "**4.2)**"
   ]
  },
  {
   "cell_type": "code",
   "execution_count": 8,
   "metadata": {
    "vscode": {
     "languageId": "r"
    }
   },
   "outputs": [
    {
     "data": {
      "text/html": [
       "'Min trip duration: 61.00 sec'"
      ],
      "text/latex": [
       "'Min trip duration: 61.00 sec'"
      ],
      "text/markdown": [
       "'Min trip duration: 61.00 sec'"
      ],
      "text/plain": [
       "[1] \"Min trip duration: 61.00 sec\""
      ]
     },
     "metadata": {},
     "output_type": "display_data"
    },
    {
     "data": {
      "text/html": [
       "'Max trip duration: 1729020.00 sec'"
      ],
      "text/latex": [
       "'Max trip duration: 1729020.00 sec'"
      ],
      "text/markdown": [
       "'Max trip duration: 1729020.00 sec'"
      ],
      "text/plain": [
       "[1] \"Max trip duration: 1729020.00 sec\""
      ]
     },
     "metadata": {},
     "output_type": "display_data"
    },
    {
     "data": {
      "text/html": [
       "'max in hours: 480.28 h'"
      ],
      "text/latex": [
       "'max in hours: 480.28 h'"
      ],
      "text/markdown": [
       "'max in hours: 480.28 h'"
      ],
      "text/plain": [
       "[1] \"max in hours: 480.28 h\""
      ]
     },
     "metadata": {},
     "output_type": "display_data"
    }
   ],
   "source": [
    "min_trip_duration <- min(df$tripduration)\n",
    "max_trip_duration <- max(df$tripduration)\n",
    "\n",
    "sprintf(\"Min trip duration: %.2f sec\", min_trip_duration)\n",
    "sprintf(\"Max trip duration: %.2f sec\", max_trip_duration)\n",
    "\n",
    "sprintf('max in hours: %.2f h', max_trip_duration/3600)"
   ]
  },
  {
   "cell_type": "markdown",
   "metadata": {},
   "source": [
    "There's a trip that's really really long ahah. Almost 20 days. Maybe some long excursion... (or, more likely, wrong data)"
   ]
  },
  {
   "cell_type": "markdown",
   "metadata": {},
   "source": [
    "**4.3)**"
   ]
  },
  {
   "cell_type": "code",
   "execution_count": 9,
   "metadata": {
    "vscode": {
     "languageId": "r"
    }
   },
   "outputs": [],
   "source": [
    "df_clean <- df %>% filter(tripduration <= 3*3600)"
   ]
  },
  {
   "cell_type": "code",
   "execution_count": 10,
   "metadata": {
    "vscode": {
     "languageId": "r"
    }
   },
   "outputs": [
    {
     "data": {
      "text/html": [
       "'Average trip duration: 553.38 sec'"
      ],
      "text/latex": [
       "'Average trip duration: 553.38 sec'"
      ],
      "text/markdown": [
       "'Average trip duration: 553.38 sec'"
      ],
      "text/plain": [
       "[1] \"Average trip duration: 553.38 sec\""
      ]
     },
     "metadata": {},
     "output_type": "display_data"
    },
    {
     "data": {
      "text/html": [
       "'Median trip duration: 340.00 sec'"
      ],
      "text/latex": [
       "'Median trip duration: 340.00 sec'"
      ],
      "text/markdown": [
       "'Median trip duration: 340.00 sec'"
      ],
      "text/plain": [
       "[1] \"Median trip duration: 340.00 sec\""
      ]
     },
     "metadata": {},
     "output_type": "display_data"
    },
    {
     "data": {
      "text/html": [
       "'Min trip duration: 61.00 sec'"
      ],
      "text/latex": [
       "'Min trip duration: 61.00 sec'"
      ],
      "text/markdown": [
       "'Min trip duration: 61.00 sec'"
      ],
      "text/plain": [
       "[1] \"Min trip duration: 61.00 sec\""
      ]
     },
     "metadata": {},
     "output_type": "display_data"
    },
    {
     "data": {
      "text/html": [
       "'Max trip duration: 10800.00 sec'"
      ],
      "text/latex": [
       "'Max trip duration: 10800.00 sec'"
      ],
      "text/markdown": [
       "'Max trip duration: 10800.00 sec'"
      ],
      "text/plain": [
       "[1] \"Max trip duration: 10800.00 sec\""
      ]
     },
     "metadata": {},
     "output_type": "display_data"
    },
    {
     "data": {
      "text/html": [
       "'max in hours: 3.00 h'"
      ],
      "text/latex": [
       "'max in hours: 3.00 h'"
      ],
      "text/markdown": [
       "'max in hours: 3.00 h'"
      ],
      "text/plain": [
       "[1] \"max in hours: 3.00 h\""
      ]
     },
     "metadata": {},
     "output_type": "display_data"
    }
   ],
   "source": [
    "avg_trip_duration_clean <- mean(df_clean$tripduration)\n",
    "\n",
    "median_trip_duration_clean <- median(df_clean$tripduration)\n",
    "\n",
    "sprintf(\"Average trip duration: %.2f sec\", avg_trip_duration_clean)\n",
    "sprintf(\"Median trip duration: %.2f sec\", median_trip_duration_clean)\n",
    "\n",
    "min_trip_duration_clean <- min(df_clean$tripduration)\n",
    "max_trip_duration_clean <- max(df_clean$tripduration)\n",
    "\n",
    "sprintf(\"Min trip duration: %.2f sec\", min_trip_duration_clean)\n",
    "sprintf(\"Max trip duration: %.2f sec\", max_trip_duration_clean)\n",
    "\n",
    "sprintf('max in hours: %.2f h', max_trip_duration_clean/3600)"
   ]
  },
  {
   "cell_type": "markdown",
   "metadata": {},
   "source": [
    "**4.4)**"
   ]
  },
  {
   "cell_type": "code",
   "execution_count": 11,
   "metadata": {
    "vscode": {
     "languageId": "r"
    }
   },
   "outputs": [
    {
     "data": {
      "image/png": "[encoded data removed]",
      "text/plain": [
       "plot without title"
      ]
     },
     "metadata": {
      "image/png": {
       "height": 420,
       "width": 900
      }
     },
     "output_type": "display_data"
    }
   ],
   "source": [
    "options(repr.plot.width = 15, repr.plot.height = 7)\n",
    "time_duration_hist <- ggplot(data=df_clean, aes(x=tripduration)) + \n",
    "                        geom_histogram(binwidth=150, fill='mediumseagreen', color='ivory', alpha=0.7) +\n",
    "                        labs(title='Trip Duration Distribution', x='Trip Duration (sec)', y='Frequency') +\n",
    "                        # xlim(c(0, 3600)) +\n",
    "                        theme_minimal()\n",
    "\n",
    "time_duration_hist"
   ]
  },
  {
   "cell_type": "markdown",
   "metadata": {},
   "source": [
    "#### 5)"
   ]
  },
  {
   "cell_type": "code",
   "execution_count": 12,
   "metadata": {
    "vscode": {
     "languageId": "r"
    }
   },
   "outputs": [
    {
     "data": {
      "image/png": "[encoded data removed]",
      "text/plain": [
       "plot without title"
      ]
     },
     "metadata": {
      "image/png": {
       "height": 420,
       "width": 420
      }
     },
     "output_type": "display_data"
    }
   ],
   "source": [
    "monthly_avg_trip_duration <- df_clean %>%\n",
    "  mutate(month = lubridate::month(starttime)) %>% # mutate add a new col. lubridate::month() returns the month number\n",
    "  group_by(month) %>%\n",
    "  summarize(avg_trip_duration = mean(tripduration)) # summarize() is used to aggregate data by group\n",
    "\n",
    "monthly_avg_trip_duration <- monthly_avg_trip_duration %>% mutate(month_w = c('Feb', 'Mar', 'Apr', 'May', 'Jun'))\n",
    "\n",
    "options(repr.plot.width = 7, repr.plot.height = 7)\n",
    "\n",
    "monthly_plot <- ggplot(data= monthly_avg_trip_duration, aes(x=month_w, y=avg_trip_duration)) + \n",
    "                  geom_bar(stat='identity', fill='mediumseagreen', color='ivory', alpha=0.7) +\n",
    "                  labs(title='Monthly Average Trip Duration', x='Month', y='Average Trip Duration (sec)') +\n",
    "                  theme_minimal()\n",
    "\n",
    "monthly_plot"
   ]
  },
  {
   "cell_type": "markdown",
   "metadata": {},
   "source": [
    "#### 6)\n",
    "**6.1)**"
   ]
  },
  {
   "cell_type": "code",
   "execution_count": 13,
   "metadata": {
    "vscode": {
     "languageId": "r"
    }
   },
   "outputs": [
    {
     "data": {
      "image/png": "[encoded data removed]",
      "text/plain": [
       "plot without title"
      ]
     },
     "metadata": {
      "image/png": {
       "height": 420,
       "width": 900
      }
     },
     "output_type": "display_data"
    }
   ],
   "source": [
    "riders_per_day <- df_clean %>% \n",
    "mutate(date = as.Date(starttime)) %>% \n",
    "group_by(date) %>% \n",
    "summarize(riders = n())\n",
    "\n",
    "options(repr.plot.width = 15, repr.plot.height = 7)\n",
    "\n",
    "riders_per_day_plot <- ggplot(data=riders_per_day, aes(x=date, y=riders)) + \n",
    "                        geom_line(color='black', lwd=1) +\n",
    "                        labs(title='Ridership per Day', x='Date', y='Number of Riders') +\n",
    "                        theme_minimal()\n",
    "\n",
    "riders_per_day_plot"
   ]
  },
  {
   "cell_type": "code",
   "execution_count": 14,
   "metadata": {
    "vscode": {
     "languageId": "r"
    }
   },
   "outputs": [
    {
     "data": {
      "image/png": "[encoded data removed]",
      "text/plain": [
       "plot without title"
      ]
     },
     "metadata": {
      "image/png": {
       "height": 420,
       "width": 900
      }
     },
     "output_type": "display_data"
    }
   ],
   "source": [
    "options(repr.plot.width = 15, repr.plot.height = 7)\n",
    "riders_per_day_barplot <- ggplot(data=riders_per_day, aes(x=date, y=riders)) + \n",
    "                        geom_bar(stat='identity', fill='mediumseagreen', color='ivory', alpha=0.7) +\n",
    "                        labs(title='Ridership per Day', x='Date', y='Number of Riders') +\n",
    "                        theme_minimal()\n",
    "\n",
    "riders_per_day_barplot"
   ]
  },
  {
   "cell_type": "markdown",
   "metadata": {},
   "source": [
    "**6.2)**"
   ]
  },
  {
   "cell_type": "code",
   "execution_count": 15,
   "metadata": {
    "vscode": {
     "languageId": "r"
    }
   },
   "outputs": [
    {
     "data": {
      "image/png": "[encoded data removed]",
      "text/plain": [
       "plot without title"
      ]
     },
     "metadata": {
      "image/png": {
       "height": 420,
       "width": 420
      }
     },
     "output_type": "display_data"
    }
   ],
   "source": [
    "# Extract the day of the week from the starttime column\n",
    "df_clean$weekday <- lubridate::wday(df_clean$starttime, label = TRUE, locale=\"EN-us\")\n",
    "\n",
    "# Create a new column to differentiate between weekdays and weekends\n",
    "df_clean$day_type <- ifelse(df_clean$weekday %in% c(\"Sat\", \"Sun\"), \"Weekend\", \"Weekday\")\n",
    "\n",
    "# Extract the hour from the starttime column\n",
    "df_clean$hour <- hour(df_clean$starttime)\n",
    "\n",
    "# Plot the hourly distribution on weekdays and weekends\n",
    "options(repr.plot.width = 7, repr.plot.height = 7)\n",
    "\n",
    "hourly_distribution <- ggplot(data = df_clean, aes(x = hour, fill = day_type)) +\n",
    "  geom_histogram(binwidth = 1, position = \"identity\", alpha = 0.7, color='ivory') +\n",
    "  labs(title = \"Hourly Distribution on Weekdays and Weekends\", x = \"Hour\", y = \"Frequency\") +\n",
    "  scale_fill_manual(values = c(\"Weekday\" = \"mediumseagreen\", \"Weekend\" = \"navy\")) +\n",
    "  theme_minimal()\n",
    "\n",
    "hourly_distribution\n"
   ]
  },
  {
   "cell_type": "markdown",
   "metadata": {},
   "source": [
    "**6.3)**"
   ]
  },
  {
   "cell_type": "code",
   "execution_count": 16,
   "metadata": {
    "vscode": {
     "languageId": "r"
    }
   },
   "outputs": [
    {
     "data": {
      "image/png": "[encoded data removed]",
      "text/plain": [
       "plot without title"
      ]
     },
     "metadata": {
      "image/png": {
       "height": 420,
       "width": 420
      }
     },
     "output_type": "display_data"
    }
   ],
   "source": [
    "# Filter the data for weekdays\n",
    "df_weekdays <- df_clean %>% filter(day_type == \"Weekday\")\n",
    "\n",
    "# Group the data by hour and user type\n",
    "hourly_distribution <- df_weekdays %>%\n",
    "  group_by(hour, usertype) %>%\n",
    "  # summarize(avg_count = mean(tripduration)) %>%\n",
    "  ungroup()\n",
    "\n",
    "# Plot the average hourly distribution on weekdays, separating customer and subscriber users\n",
    "\n",
    "options(repr.plot.width = 7, repr.plot.height = 7)\n",
    "\n",
    "hourly_plot <- ggplot(data = hourly_distribution, aes(x = hour, fill = usertype)) +\n",
    "  geom_histogram(binwidth = 1, position = \"dodge\", alpha = 0.7, color='ivory') +\n",
    "  labs(title = \"Average Hourly Distribution on Weekdays (Customer vs Subscriber)\",\n",
    "       x = \"Hour\", y = \"Frequency\") +\n",
    "  scale_fill_manual(values = c(\"Customer\" = \"navy\", \"Subscriber\" = \"mediumseagreen\")) +\n",
    "  theme_minimal()\n",
    "\n",
    "hourly_plot\n"
   ]
  },
  {
   "cell_type": "markdown",
   "metadata": {},
   "source": [
    "#### 7)\n",
    "**7.1)**"
   ]
  },
  {
   "cell_type": "code",
   "execution_count": 17,
   "metadata": {
    "vscode": {
     "languageId": "r"
    }
   },
   "outputs": [
    {
     "data": {
      "image/png": "[encoded data removed]",
      "text/plain": [
       "plot without title"
      ]
     },
     "metadata": {
      "image/png": {
       "height": 420,
       "width": 900
      }
     },
     "output_type": "display_data"
    }
   ],
   "source": [
    "df_vel <- df_clean %>% filter(tripduration > 3600)\n",
    "\n",
    "df_vel$dist <- distHaversine(cbind(df_vel$`start station longitude`, df_vel$`start station latitude`), \n",
    "                              cbind(df_vel$`end station longitude`, df_vel$`end station latitude`))\n",
    "\n",
    "df_vel$speed <- (df_vel$dist / df_vel$tripduration)#*3.6\n",
    "\n",
    "options(repr.plot.width = 15, repr.plot.height = 7)\n",
    "\n",
    "speed_hist <- ggplot(data=df_vel, aes(x=speed)) + \n",
    "                geom_histogram(binwidth=0.1, fill='mediumseagreen', color='ivory', alpha=0.7) +\n",
    "                labs(title='Speed Distribution', x='Speed (m/s)', y='Frequency') +\n",
    "                theme_minimal()\n",
    "\n",
    "speed_hist"
   ]
  },
  {
   "cell_type": "markdown",
   "metadata": {},
   "source": [
    "**7.2)**"
   ]
  },
  {
   "cell_type": "code",
   "execution_count": 18,
   "metadata": {
    "vscode": {
     "languageId": "r"
    }
   },
   "outputs": [
    {
     "data": {
      "image/png": "[encoded data removed]",
      "text/plain": [
       "plot without title"
      ]
     },
     "metadata": {
      "image/png": {
       "height": 420,
       "width": 420
      }
     },
     "output_type": "display_data"
    }
   ],
   "source": [
    "# Filter the data for the specified distance groups\n",
    "df_group1 <- df_vel %>% filter(dist < 500)\n",
    "df_group2 <- df_vel %>% filter(dist >= 500 & dist < 1000)\n",
    "df_group3 <- df_vel %>% filter(dist >= 1000 & dist < 2000)\n",
    "df_group4 <- df_vel %>% filter(dist >= 2000 & dist < 3000)\n",
    "df_group5 <- df_vel %>% filter(dist >= 3000)\n",
    "\n",
    "# Calculate the average speed for each distance group\n",
    "avg_speed_group1 <- mean(df_group1$speed)\n",
    "avg_speed_group2 <- mean(df_group2$speed)\n",
    "avg_speed_group3 <- mean(df_group3$speed)\n",
    "avg_speed_group4 <- mean(df_group4$speed)\n",
    "avg_speed_group5 <- mean(df_group5$speed)\n",
    "\n",
    "# Create a data frame for plotting\n",
    "avg_speed_dist <- data.frame(group_dist = c(\"<500m\", \"500m-1000m\", \"1000m-2000m\", \"2000m-3000m\", \">3000m\"), \n",
    "                                avg_speed = c(avg_speed_group1, avg_speed_group2, avg_speed_group3, \n",
    "                                                avg_speed_group4, avg_speed_group5))\n",
    "\n",
    "options(repr.plot.width = 7, repr.plot.height = 7)\n",
    "\n",
    "# Plot the average speed as a function of distance\n",
    "speed_distance_plot <- ggplot(data = avg_speed_dist, aes(x = group_dist, y = avg_speed/3.6)) +\n",
    "                        geom_bar(stat = \"identity\", fill = \"mediumseagreen\", color = \"ivory\", alpha = 0.7) +\n",
    "                        labs(title = \"Average Speed as a Function of Distance\",\n",
    "                        x = \"Distance\", y = \"Average Speed (m/s)\") +\n",
    "                        theme_minimal()\n",
    "\n",
    "speed_distance_plot\n"
   ]
  },
  {
   "cell_type": "markdown",
   "metadata": {},
   "source": [
    "**7.3)**"
   ]
  },
  {
   "cell_type": "code",
   "execution_count": 19,
   "metadata": {
    "vscode": {
     "languageId": "r"
    }
   },
   "outputs": [
    {
     "data": {
      "text/plain": [
       "List of 136\n",
       " $ line                            :List of 6\n",
       "  ..$ colour       : chr \"black\"\n",
       "  ..$ linewidth    : num 0.5\n",
       "  ..$ linetype     : num 1\n",
       "  ..$ lineend      : chr \"butt\"\n",
       "  ..$ arrow        : logi FALSE\n",
       "  ..$ inherit.blank: logi TRUE\n",
       "  ..- attr(*, \"class\")= chr [1:2] \"element_line\" \"element\"\n",
       " $ rect                            :List of 5\n",
       "  ..$ fill         : chr \"white\"\n",
       "  ..$ colour       : chr \"black\"\n",
       "  ..$ linewidth    : num 0.5\n",
       "  ..$ linetype     : num 1\n",
       "  ..$ inherit.blank: logi TRUE\n",
       "  ..- attr(*, \"class\")= chr [1:2] \"element_rect\" \"element\"\n",
       " $ text                            :List of 11\n",
       "  ..$ family       : chr \"\"\n",
       "  ..$ face         : chr \"plain\"\n",
       "  ..$ colour       : chr \"black\"\n",
       "  ..$ size         : num 11\n",
       "  ..$ hjust        : num 0.5\n",
       "  ..$ vjust        : num 0.5\n",
       "  ..$ angle        : num 0\n",
       "  ..$ lineheight   : num 0.9\n",
       "  ..$ margin       : 'margin' num [1:4] 0points 0points 0points 0points\n",
       "  .. ..- attr(*, \"unit\")= int 8\n",
       "  ..$ debug        : logi FALSE\n",
       "  ..$ inherit.blank: logi TRUE\n",
       "  ..- attr(*, \"class\")= chr [1:2] \"element_text\" \"element\"\n",
       " $ title                           : NULL\n",
       " $ aspect.ratio                    : NULL\n",
       " $ axis.title                      : NULL\n",
       " $ axis.title.x                    :List of 11\n",
       "  ..$ family       : NULL\n",
       "  ..$ face         : NULL\n",
       "  ..$ colour       : NULL\n",
       "  ..$ size         : NULL\n",
       "  ..$ hjust        : NULL\n",
       "  ..$ vjust        : num 1\n",
       "  ..$ angle        : NULL\n",
       "  ..$ lineheight   : NULL\n",
       "  ..$ margin       : 'margin' num [1:4] 2.75points 0points 0points 0points\n",
       "  .. ..- attr(*, \"unit\")= int 8\n",
       "  ..$ debug        : NULL\n",
       "  ..$ inherit.blank: logi TRUE\n",
       "  ..- attr(*, \"class\")= chr [1:2] \"element_text\" \"element\"\n",
       " $ axis.title.x.top                :List of 11\n",
       "  ..$ family       : NULL\n",
       "  ..$ face         : NULL\n",
       "  ..$ colour       : NULL\n",
       "  ..$ size         : NULL\n",
       "  ..$ hjust        : NULL\n",
       "  ..$ vjust        : num 0\n",
       "  ..$ angle        : NULL\n",
       "  ..$ lineheight   : NULL\n",
       "  ..$ margin       : 'margin' num [1:4] 0points 0points 2.75points 0points\n",
       "  .. ..- attr(*, \"unit\")= int 8\n",
       "  ..$ debug        : NULL\n",
       "  ..$ inherit.blank: logi TRUE\n",
       "  ..- attr(*, \"class\")= chr [1:2] \"element_text\" \"element\"\n",
       " $ axis.title.x.bottom             : NULL\n",
       " $ axis.title.y                    :List of 11\n",
       "  ..$ family       : NULL\n",
       "  ..$ face         : NULL\n",
       "  ..$ colour       : NULL\n",
       "  ..$ size         : NULL\n",
       "  ..$ hjust        : NULL\n",
       "  ..$ vjust        : num 1\n",
       "  ..$ angle        : num 90\n",
       "  ..$ lineheight   : NULL\n",
       "  ..$ margin       : 'margin' num [1:4] 0points 2.75points 0points 0points\n",
       "  .. ..- attr(*, \"unit\")= int 8\n",
       "  ..$ debug        : NULL\n",
       "  ..$ inherit.blank: logi TRUE\n",
       "  ..- attr(*, \"class\")= chr [1:2] \"element_text\" \"element\"\n",
       " $ axis.title.y.left               : NULL\n",
       " $ axis.title.y.right              :List of 11\n",
       "  ..$ family       : NULL\n",
       "  ..$ face         : NULL\n",
       "  ..$ colour       : NULL\n",
       "  ..$ size         : NULL\n",
       "  ..$ hjust        : NULL\n",
       "  ..$ vjust        : num 1\n",
       "  ..$ angle        : num -90\n",
       "  ..$ lineheight   : NULL\n",
       "  ..$ margin       : 'margin' num [1:4] 0points 0points 0points 2.75points\n",
       "  .. ..- attr(*, \"unit\")= int 8\n",
       "  ..$ debug        : NULL\n",
       "  ..$ inherit.blank: logi TRUE\n",
       "  ..- attr(*, \"class\")= chr [1:2] \"element_text\" \"element\"\n",
       " $ axis.text                       :List of 11\n",
       "  ..$ family       : NULL\n",
       "  ..$ face         : NULL\n",
       "  ..$ colour       : chr \"grey30\"\n",
       "  ..$ size         : 'rel' num 0.8\n",
       "  ..$ hjust        : NULL\n",
       "  ..$ vjust        : NULL\n",
       "  ..$ angle        : NULL\n",
       "  ..$ lineheight   : NULL\n",
       "  ..$ margin       : NULL\n",
       "  ..$ debug        : NULL\n",
       "  ..$ inherit.blank: logi TRUE\n",
       "  ..- attr(*, \"class\")= chr [1:2] \"element_text\" \"element\"\n",
       " $ axis.text.x                     :List of 11\n",
       "  ..$ family       : NULL\n",
       "  ..$ face         : NULL\n",
       "  ..$ colour       : NULL\n",
       "  ..$ size         : NULL\n",
       "  ..$ hjust        : NULL\n",
       "  ..$ vjust        : num 1\n",
       "  ..$ angle        : NULL\n",
       "  ..$ lineheight   : NULL\n",
       "  ..$ margin       : 'margin' num [1:4] 2.2points 0points 0points 0points\n",
       "  .. ..- attr(*, \"unit\")= int 8\n",
       "  ..$ debug        : NULL\n",
       "  ..$ inherit.blank: logi TRUE\n",
       "  ..- attr(*, \"class\")= chr [1:2] \"element_text\" \"element\"\n",
       " $ axis.text.x.top                 :List of 11\n",
       "  ..$ family       : NULL\n",
       "  ..$ face         : NULL\n",
       "  ..$ colour       : NULL\n",
       "  ..$ size         : NULL\n",
       "  ..$ hjust        : NULL\n",
       "  ..$ vjust        : num 0\n",
       "  ..$ angle        : NULL\n",
       "  ..$ lineheight   : NULL\n",
       "  ..$ margin       : 'margin' num [1:4] 0points 0points 2.2points 0points\n",
       "  .. ..- attr(*, \"unit\")= int 8\n",
       "  ..$ debug        : NULL\n",
       "  ..$ inherit.blank: logi TRUE\n",
       "  ..- attr(*, \"class\")= chr [1:2] \"element_text\" \"element\"\n",
       " $ axis.text.x.bottom              : NULL\n",
       " $ axis.text.y                     :List of 11\n",
       "  ..$ family       : NULL\n",
       "  ..$ face         : NULL\n",
       "  ..$ colour       : NULL\n",
       "  ..$ size         : NULL\n",
       "  ..$ hjust        : num 1\n",
       "  ..$ vjust        : NULL\n",
       "  ..$ angle        : NULL\n",
       "  ..$ lineheight   : NULL\n",
       "  ..$ margin       : 'margin' num [1:4] 0points 2.2points 0points 0points\n",
       "  .. ..- attr(*, \"unit\")= int 8\n",
       "  ..$ debug        : NULL\n",
       "  ..$ inherit.blank: logi TRUE\n",
       "  ..- attr(*, \"class\")= chr [1:2] \"element_text\" \"element\"\n",
       " $ axis.text.y.left                : NULL\n",
       " $ axis.text.y.right               :List of 11\n",
       "  ..$ family       : NULL\n",
       "  ..$ face         : NULL\n",
       "  ..$ colour       : NULL\n",
       "  ..$ size         : NULL\n",
       "  ..$ hjust        : num 0\n",
       "  ..$ vjust        : NULL\n",
       "  ..$ angle        : NULL\n",
       "  ..$ lineheight   : NULL\n",
       "  ..$ margin       : 'margin' num [1:4] 0points 0points 0points 2.2points\n",
       "  .. ..- attr(*, \"unit\")= int 8\n",
       "  ..$ debug        : NULL\n",
       "  ..$ inherit.blank: logi TRUE\n",
       "  ..- attr(*, \"class\")= chr [1:2] \"element_text\" \"element\"\n",
       " $ axis.text.theta                 : NULL\n",
       " $ axis.text.r                     :List of 11\n",
       "  ..$ family       : NULL\n",
       "  ..$ face         : NULL\n",
       "  ..$ colour       : NULL\n",
       "  ..$ size         : NULL\n",
       "  ..$ hjust        : num 0.5\n",
       "  ..$ vjust        : NULL\n",
       "  ..$ angle        : NULL\n",
       "  ..$ lineheight   : NULL\n",
       "  ..$ margin       : 'margin' num [1:4] 0points 2.2points 0points 2.2points\n",
       "  .. ..- attr(*, \"unit\")= int 8\n",
       "  ..$ debug        : NULL\n",
       "  ..$ inherit.blank: logi TRUE\n",
       "  ..- attr(*, \"class\")= chr [1:2] \"element_text\" \"element\"\n",
       " $ axis.ticks                      : list()\n",
       "  ..- attr(*, \"class\")= chr [1:2] \"element_blank\" \"element\"\n",
       " $ axis.ticks.x                    : NULL\n",
       " $ axis.ticks.x.top                : NULL\n",
       " $ axis.ticks.x.bottom             : NULL\n",
       " $ axis.ticks.y                    : NULL\n",
       " $ axis.ticks.y.left               : NULL\n",
       " $ axis.ticks.y.right              : NULL\n",
       " $ axis.ticks.theta                : NULL\n",
       " $ axis.ticks.r                    : NULL\n",
       " $ axis.minor.ticks.x.top          : NULL\n",
       " $ axis.minor.ticks.x.bottom       : NULL\n",
       " $ axis.minor.ticks.y.left         : NULL\n",
       " $ axis.minor.ticks.y.right        : NULL\n",
       " $ axis.minor.ticks.theta          : NULL\n",
       " $ axis.minor.ticks.r              : NULL\n",
       " $ axis.ticks.length               : 'simpleUnit' num 2.75points\n",
       "  ..- attr(*, \"unit\")= int 8\n",
       " $ axis.ticks.length.x             : NULL\n",
       " $ axis.ticks.length.x.top         : NULL\n",
       " $ axis.ticks.length.x.bottom      : NULL\n",
       " $ axis.ticks.length.y             : NULL\n",
       " $ axis.ticks.length.y.left        : NULL\n",
       " $ axis.ticks.length.y.right       : NULL\n",
       " $ axis.ticks.length.theta         : NULL\n",
       " $ axis.ticks.length.r             : NULL\n",
       " $ axis.minor.ticks.length         : 'rel' num 0.75\n",
       " $ axis.minor.ticks.length.x       : NULL\n",
       " $ axis.minor.ticks.length.x.top   : NULL\n",
       " $ axis.minor.ticks.length.x.bottom: NULL\n",
       " $ axis.minor.ticks.length.y       : NULL\n",
       " $ axis.minor.ticks.length.y.left  : NULL\n",
       " $ axis.minor.ticks.length.y.right : NULL\n",
       " $ axis.minor.ticks.length.theta   : NULL\n",
       " $ axis.minor.ticks.length.r       : NULL\n",
       " $ axis.line                       : list()\n",
       "  ..- attr(*, \"class\")= chr [1:2] \"element_blank\" \"element\"\n",
       " $ axis.line.x                     : NULL\n",
       " $ axis.line.x.top                 : NULL\n",
       " $ axis.line.x.bottom              : NULL\n",
       " $ axis.line.y                     : NULL\n",
       " $ axis.line.y.left                : NULL\n",
       " $ axis.line.y.right               : NULL\n",
       " $ axis.line.theta                 : NULL\n",
       " $ axis.line.r                     : NULL\n",
       " $ legend.background               : list()\n",
       "  ..- attr(*, \"class\")= chr [1:2] \"element_blank\" \"element\"\n",
       " $ legend.margin                   : 'margin' num [1:4] 5.5points 5.5points 5.5points 5.5points\n",
       "  ..- attr(*, \"unit\")= int 8\n",
       " $ legend.spacing                  : 'simpleUnit' num 11points\n",
       "  ..- attr(*, \"unit\")= int 8\n",
       " $ legend.spacing.x                : NULL\n",
       " $ legend.spacing.y                : NULL\n",
       " $ legend.key                      : list()\n",
       "  ..- attr(*, \"class\")= chr [1:2] \"element_blank\" \"element\"\n",
       " $ legend.key.size                 : 'simpleUnit' num 1.2lines\n",
       "  ..- attr(*, \"unit\")= int 3\n",
       " $ legend.key.height               : NULL\n",
       " $ legend.key.width                : NULL\n",
       " $ legend.key.spacing              : 'simpleUnit' num 5.5points\n",
       "  ..- attr(*, \"unit\")= int 8\n",
       " $ legend.key.spacing.x            : NULL\n",
       " $ legend.key.spacing.y            : NULL\n",
       " $ legend.frame                    : NULL\n",
       " $ legend.ticks                    : NULL\n",
       " $ legend.ticks.length             : 'rel' num 0.2\n",
       " $ legend.axis.line                : NULL\n",
       " $ legend.text                     :List of 11\n",
       "  ..$ family       : NULL\n",
       "  ..$ face         : NULL\n",
       "  ..$ colour       : NULL\n",
       "  ..$ size         : 'rel' num 0.8\n",
       "  ..$ hjust        : NULL\n",
       "  ..$ vjust        : NULL\n",
       "  ..$ angle        : NULL\n",
       "  ..$ lineheight   : NULL\n",
       "  ..$ margin       : NULL\n",
       "  ..$ debug        : NULL\n",
       "  ..$ inherit.blank: logi TRUE\n",
       "  ..- attr(*, \"class\")= chr [1:2] \"element_text\" \"element\"\n",
       " $ legend.text.position            : NULL\n",
       " $ legend.title                    :List of 11\n",
       "  ..$ family       : NULL\n",
       "  ..$ face         : NULL\n",
       "  ..$ colour       : NULL\n",
       "  ..$ size         : NULL\n",
       "  ..$ hjust        : num 0\n",
       "  ..$ vjust        : NULL\n",
       "  ..$ angle        : NULL\n",
       "  ..$ lineheight   : NULL\n",
       "  ..$ margin       : NULL\n",
       "  ..$ debug        : NULL\n",
       "  ..$ inherit.blank: logi TRUE\n",
       "  ..- attr(*, \"class\")= chr [1:2] \"element_text\" \"element\"\n",
       " $ legend.title.position           : NULL\n",
       " $ legend.position                 : chr \"right\"\n",
       " $ legend.position.inside          : NULL\n",
       " $ legend.direction                : NULL\n",
       " $ legend.byrow                    : NULL\n",
       " $ legend.justification            : chr \"center\"\n",
       " $ legend.justification.top        : NULL\n",
       " $ legend.justification.bottom     : NULL\n",
       " $ legend.justification.left       : NULL\n",
       " $ legend.justification.right      : NULL\n",
       " $ legend.justification.inside     : NULL\n",
       " $ legend.location                 : NULL\n",
       " $ legend.box                      : NULL\n",
       " $ legend.box.just                 : NULL\n",
       " $ legend.box.margin               : 'margin' num [1:4] 0cm 0cm 0cm 0cm\n",
       "  ..- attr(*, \"unit\")= int 1\n",
       " $ legend.box.background           : list()\n",
       "  ..- attr(*, \"class\")= chr [1:2] \"element_blank\" \"element\"\n",
       " $ legend.box.spacing              : 'simpleUnit' num 11points\n",
       "  ..- attr(*, \"unit\")= int 8\n",
       "  [list output truncated]\n",
       " - attr(*, \"class\")= chr [1:2] \"theme\" \"gg\"\n",
       " - attr(*, \"complete\")= logi TRUE\n",
       " - attr(*, \"validate\")= logi TRUE"
      ]
     },
     "metadata": {},
     "output_type": "display_data"
    },
    {
     "data": {
      "image/png": "[encoded data removed]",
      "text/plain": [
       "plot without title"
      ]
     },
     "metadata": {
      "image/png": {
       "height": 420,
       "width": 420
      }
     },
     "output_type": "display_data"
    }
   ],
   "source": [
    "# Filter the data for weekdays\n",
    "df_weekday <- df_vel %>% filter(day_type == \"Weekday\")\n",
    "\n",
    "# Filter the data for weekends\n",
    "df_weekend <- df_vel %>% filter(day_type == \"Weekend\")\n",
    "\n",
    "# Now you can perform the same operations on df_weekday and df_weekend as before\n",
    "# For example, for weekdays:\n",
    "\n",
    "# Filter the data for the specified distance groups\n",
    "df_group1d <- df_weekday %>% filter(dist < 500)\n",
    "df_group2d <- df_weekday %>% filter(dist >= 500 & dist < 1000)\n",
    "df_group3d <- df_weekday %>% filter(dist >= 1000 & dist < 2000)\n",
    "df_group4d <- df_weekday %>% filter(dist >= 2000 & dist < 3000)\n",
    "df_group5d <- df_weekday %>% filter(dist >= 3000)\n",
    "\n",
    "df_group1w <- df_weekend %>% filter(dist < 500)\n",
    "df_group2w <- df_weekend %>% filter(dist >= 500 & dist < 1000)\n",
    "df_group3w <- df_weekend %>% filter(dist >= 1000 & dist < 2000)\n",
    "df_group4w <- df_weekend %>% filter(dist >= 2000 & dist < 3000)\n",
    "df_group5w <- df_weekend %>% filter(dist >= 3000)\n",
    "\n",
    "# Calculate the average speed for each distance group\n",
    "avg_speed_group1d <- mean(df_group1d$speed)\n",
    "avg_speed_group2d <- mean(df_group2d$speed)\n",
    "avg_speed_group3d <- mean(df_group3d$speed)\n",
    "avg_speed_group4d <- mean(df_group4d$speed)\n",
    "avg_speed_group5d <- mean(df_group5d$speed)\n",
    "\n",
    "avg_speed_group1w <- mean(df_group1w$speed)\n",
    "avg_speed_group2w <- mean(df_group2w$speed)\n",
    "avg_speed_group3w <- mean(df_group3w$speed)\n",
    "avg_speed_group4w <- mean(df_group4w$speed)\n",
    "avg_speed_group5w <- mean(df_group5w$speed)\n",
    "\n",
    "# Create a data frame for plotting\n",
    "avg_speed_distd <- data.frame(group_dist = c(\"<500m\", \"500m-1000m\", \"1000m-2000m\", \"2000m-3000m\", \">3000m\"), \n",
    "                                avg_speed = c(avg_speed_group1d, avg_speed_group2d, avg_speed_group3d, \n",
    "                                                avg_speed_group4d, avg_speed_group5d),\n",
    "                                day_type = 'Weekday')\n",
    "\n",
    "avg_speed_distw <- data.frame(group_dist = c(\"<500m\", \"500m-1000m\", \"1000m-2000m\", \"2000m-3000m\", \">3000m\"), \n",
    "                                avg_speed = c(avg_speed_group1w, avg_speed_group2w, avg_speed_group3w, \n",
    "                                                avg_speed_group4w, avg_speed_group5w), \n",
    "                                day_type = 'Weekend')\n",
    "\n",
    "df_avg_speed_dist <- rbind(avg_speed_distd, avg_speed_distw)   \n",
    "\n",
    "options(repr.plot.width = 7, repr.plot.height = 7)\n",
    "\n",
    "# Plot the average speed as a function of distance\n",
    "speed_distance_plotwd <- ggplot(data = df_avg_speed_dist, aes(x = group_dist, y = avg_speed, fill=day_type)) +\n",
    "                            geom_bar(position='dodge', stat = \"identity\", alpha = 0.7, color='ivory') +\n",
    "                            labs(title = \"Average Speed as a Function of Distance\",\n",
    "                            x = \"Distance\", y = \"Average Speed (m/s)\") +\n",
    "                            scale_fill_manual(values = c(\"Weekday\" = \"mediumseagreen\", \"Weekend\" = \"navy\"))\n",
    "                            theme_minimal()\n",
    "\n",
    "speed_distance_plotwd"
   ]
  },
  {
   "cell_type": "markdown",
   "metadata": {},
   "source": [
    "#### 8)\n",
    "**8.1)**"
   ]
  },
  {
   "cell_type": "code",
   "execution_count": 20,
   "metadata": {
    "vscode": {
     "languageId": "r"
    }
   },
   "outputs": [
    {
     "data": {
      "text/html": [
       "'Most common start station --&gt; Grove St PATH'"
      ],
      "text/latex": [
       "'Most common start station --> Grove St PATH'"
      ],
      "text/markdown": [
       "'Most common start station --&gt; Grove St PATH'"
      ],
      "text/plain": [
       "[1] \"Most common start station --> Grove St PATH\""
      ]
     },
     "metadata": {},
     "output_type": "display_data"
    },
    {
     "data": {
      "text/html": [
       "'Least popular end station --&gt; 1 Ave &amp; E 16 St'"
      ],
      "text/latex": [
       "'Least popular end station --> 1 Ave \\& E 16 St'"
      ],
      "text/markdown": [
       "'Least popular end station --&gt; 1 Ave &amp; E 16 St'"
      ],
      "text/plain": [
       "[1] \"Least popular end station --> 1 Ave & E 16 St\""
      ]
     },
     "metadata": {},
     "output_type": "display_data"
    }
   ],
   "source": [
    "start_station <- df_clean %>% group_by(`start station name`) %>% summarize(count = n()) %>% arrange(desc(count))\n",
    "\n",
    "end_station <- df_clean %>% group_by(`end station name`) %>% summarize(count = n()) %>% arrange(count)\n",
    "\n",
    "sprintf('Most common start station --> %s', start_station$`start station name`[1])\n",
    "sprintf('Least popular end station --> %s', end_station$`end station name`[1])"
   ]
  },
  {
   "cell_type": "markdown",
   "metadata": {},
   "source": [
    "**8.2)**"
   ]
  },
  {
   "cell_type": "code",
   "execution_count": 21,
   "metadata": {
    "vscode": {
     "languageId": "r"
    }
   },
   "outputs": [
    {
     "data": {
      "image/png": "[encoded data removed]",
      "text/plain": [
       "plot without title"
      ]
     },
     "metadata": {
      "image/png": {
       "height": 420,
       "width": 900
      }
     },
     "output_type": "display_data"
    }
   ],
   "source": [
    "start_station <- df_clean %>% group_by(`start station name`) #%>% summarize(count = n())\n",
    "\n",
    "# start_station\n",
    "\n",
    "options(repr.plot.width = 15, repr.plot.height = 7)\n",
    "\n",
    "# start_distr <- ggplot(data=start_station, aes(x=`start station name`)) +\n",
    "#                 geom_histogram(stat='count', binwidth = 1, fill='mediumseagreen', color='ivory', alpha=0.7) +\n",
    "#                 labs(title='Start Station Distribution', x='Start Station', y='Frequency')\n",
    "#                 theme_minimal()+\n",
    "#                 theme(axis.text.x = element_text(angle = 45, hjust = 1))\n",
    "\n",
    "start_distr <- ggplot(data=start_station, aes(x=`start station name`)) +\n",
    "                geom_bar(fill='mediumseagreen', color='ivory', alpha=0.7) +\n",
    "                labs(title='Start Stations Distribution', x='Start Station', y='Frequency') +\n",
    "                theme_minimal() +\n",
    "                theme(axis.text.x = element_text(angle = 45, hjust = 1))\n",
    "\n",
    "start_distr"
   ]
  },
  {
   "cell_type": "markdown",
   "metadata": {},
   "source": [
    "**8.3)**"
   ]
  },
  {
   "cell_type": "code",
   "execution_count": 22,
   "metadata": {
    "vscode": {
     "languageId": "r"
    }
   },
   "outputs": [
    {
     "name": "stderr",
     "output_type": "stream",
     "text": [
      "\u001b[1m\u001b[22m`summarise()` has grouped output by 'start station name'. You can override\n",
      "using the `.groups` argument.\n",
      "\u001b[1m\u001b[22m`summarise()` has grouped output by 'start station name'. You can override\n",
      "using the `.groups` argument.\n"
     ]
    },
    {
     "name": "stdout",
     "output_type": "stream",
     "text": [
      "\n",
      "3 most common routes:\n",
      "[1] \"Hamilton Park --> Grove St PATH\"\n",
      "[1] \"Grove St PATH --> Hamilton Park\"\n",
      "[1] \"Brunswick & 6th --> Grove St PATH\"\n",
      "\n",
      "3 least popular routes:\n",
      "[1] \"5 Corners Library --> Dixon Mills\"\n",
      "[1] \"5 Corners Library --> Grand St\"\n",
      "[1] \"Astor Place --> Brunswick & 6th\"\n"
     ]
    }
   ],
   "source": [
    "common_route <- df_clean %>% group_by(`start station name`, `end station name`) %>% summarize(count = n()) %>% arrange(desc(count))\n",
    "\n",
    "least_route <- df_clean %>% group_by(`start station name`, `end station name`) %>% summarize(count = n()) %>% arrange(count)\n",
    "\n",
    "cat('\\n3 most common routes:\\n')\n",
    "for (i in 1:3) {\n",
    "    print(sprintf('%s --> %s', common_route$`start station name`[i], common_route$`end station name`[i]))\n",
    "}\n",
    "\n",
    "cat('\\n3 least popular routes:\\n')\n",
    "for (i in 1:3) {\n",
    "    print(sprintf('%s --> %s', least_route$`start station name`[i], least_route$`end station name`[i]))\n",
    "}\n"
   ]
  }
 ],
 "metadata": {
  "kernelspec": {
   "display_name": "R",
   "language": "R",
   "name": "ir"
  },
  "language_info": {
   "codemirror_mode": "r",
   "file_extension": ".r",
   "mimetype": "text/x-r-source",
   "name": "R",
   "pygments_lexer": "r",
   "version": "4.3.3"
  }
 },
 "nbformat": 4,
 "nbformat_minor": 4
}
